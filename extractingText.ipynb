{
 "cells": [
  {
   "cell_type": "markdown",
   "metadata": {},
   "source": [
    "### Imports, Reading in files & Defining functions"
   ]
  },
  {
   "cell_type": "code",
   "execution_count": 9,
   "metadata": {
    "code_folding": [
     13
    ]
   },
   "outputs": [],
   "source": [
    "import os\n",
    "import re\n",
    "import io\n",
    "\n",
    "from pdfminer.converter import TextConverter\n",
    "from pdfminer.layout import LAParams\n",
    "from pdfminer.pdfdocument import PDFDocument\n",
    "from pdfminer.pdfinterp import PDFResourceManager, PDFPageInterpreter\n",
    "from pdfminer.pdfpage import PDFPage\n",
    "from pdfminer.pdfparser import PDFParser\n",
    "\n",
    "from termcolor import colored\n",
    "\n",
    "def PDFtoString(filePath, \n",
    "                pdfFolder='/Users/saranmedical-smile/Desktop/Language-of-Science/articles/AJS pdf files/1946to1966'): \n",
    "    \n",
    "    out = io.StringIO()\n",
    "    with open(os.path.join(pdfFolder,filePath), 'rb') as f:\n",
    "        parser = PDFParser(f)\n",
    "        doc = PDFDocument(parser)\n",
    "        rsrcmgr = PDFResourceManager()\n",
    "        device = TextConverter(rsrcmgr, out, laparams=LAParams())\n",
    "        interpreter = PDFPageInterpreter(rsrcmgr, device)\n",
    "        for page in PDFPage.create_pages(doc):\n",
    "            interpreter.process_page(page)\n",
    "    #string = out.getvalue()\n",
    "    return out.getvalue() "
   ]
  },
  {
   "cell_type": "code",
   "execution_count": 63,
   "metadata": {
    "code_folding": [],
    "scrolled": true
   },
   "outputs": [
    {
     "name": "stdout",
     "output_type": "stream",
     "text": [
      "\u001b[32m0\u001b[0m \u001b[35mAJS_1946_51_4_Antipathy and Social Behavior.txt\u001b[0m \n",
      "\n",
      "\u001b[32m1\u001b[0m \u001b[35mAJS_1946_51_4_Definitions of Economic Terms in the Dictionary of Sociology.txt\u001b[0m \n",
      "\n",
      "\u001b[32m2\u001b[0m \u001b[35mAJS_1946_51_4_Ethnic Behavior in Industry-Sponsorship and Rejection in a New England Factory.txt\u001b[0m \n",
      "\n",
      "\u001b[32m3\u001b[0m \u001b[35mAJS_1946_51_4_Intermarriages Between German Pioneers and Other Nationalities in Minnesota in 1860 and 1870.txt\u001b[0m \n",
      "\n",
      "\u001b[32m4\u001b[0m \u001b[35mAJS_1946_51_4_Methods of Measurement of Aesthetic Folkways.txt\u001b[0m \n",
      "\n"
     ]
    }
   ],
   "source": [
    "#Define the folder in which all the pdfs are in \n",
    "# - assuming the type of analysis needs to be different depending on the journal / time period\n",
    "\n",
    "#baseFolder = '/home/ishi/Desktop/franzosi/Language-of-Science/articles/AJS pdf files/1946to1966'\n",
    "pdfFolder = '/Users/saranmedical-smile/Desktop/Language-of-Science/articles/AJS pdf files/1946to1966'\n",
    "txtFolder = '/Users/saranmedical-smile/Desktop/Language-of-Science/corpus/AJS_1946to1966'\n",
    "\n",
    "txtPaths = os.listdir(txtFolder) # list of all txt files\n",
    "pdfPaths = os.listdir(pdfFolder) # list of all pdf files\n",
    "\n",
    "txtPaths.sort(), pdfPaths.sort()\n",
    "\n",
    "for indx, f in enumerate(filePaths[:5]):\n",
    "    print(colored(indx, 'green'), colored(f, 'magenta'), '\\n')\n",
    "    \n",
    "\n",
    "string = PDFtoString(os.path.join(pdfPaths[35])) #Example output of PDFtoString"
   ]
  },
  {
   "cell_type": "markdown",
   "metadata": {},
   "source": [
    "### Print the corpus file"
   ]
  },
  {
   "cell_type": "code",
   "execution_count": 64,
   "metadata": {
    "code_folding": [
     0
    ]
   },
   "outputs": [
    {
     "name": "stdout",
     "output_type": "stream",
     "text": [
      "Pale AM ee ee ee at eta\n",
      "are now only accessible on\n",
      "\n",
      "the Chicago Journals website at\n",
      "\n",
      "EVR LeU\n",
      "Pee ot AR eee ea aaa\n",
      "are now only accessible on\n",
      "the Chicago Journals website at\n",
      "\n",
      "VESTA a\n",
      "The sociological literature on class sys-\n",
      "tems in American communities raises a\n",
      "number of problems for research at the\n",
      "childhood level. The present study is of the\n",
      "general question concerning to what extent\n",
      "and in what observable ways the factor of\n",
      "social status affects the social development\n",
      "of children. Specifically, is the social-class\n",
      "position of the family a contributing factor\n",
      "in determining a child’s choice of friends\n",
      "or the child’s reputation among his age-\n",
      "mates? If so, how does its operation vary\n",
      "with the increasing age of the child?\n",
      "\n",
      "A community was selected for which the\n",
      "status structure was known and in which\n",
      "families whose children would be the sub-\n",
      "jects of the research had already been class-\n",
      "typed. Children of two age levels were\n",
      "chosen as subjects.\n",
      "Group A, 2 per cent of the population, is\n"
     ]
    }
   ],
   "source": [
    "with open(os.path.join(baseFolder, filePaths[6]), 'r') as f:\n",
    "    data = f.read()\n",
    "print(data[:1000])# The header looks terrible - might make sense to use pdf2text just to extract header info"
   ]
  },
  {
   "cell_type": "markdown",
   "metadata": {},
   "source": [
    "### Regex Method 1 - re.compile.finditer(string)\n",
    "\n",
    "This returns the indices at which the pattern occurs"
   ]
  },
  {
   "cell_type": "code",
   "execution_count": 20,
   "metadata": {
    "scrolled": true
   },
   "outputs": [],
   "source": [
    "pattern = re.compile(r'\\d[ ]? \\w') #Important to start regex expression with r --> raw string\n",
    "matches = pattern.finditer(string)\n",
    "for match in matches:\n",
    "    pass#print(match)"
   ]
  },
  {
   "cell_type": "markdown",
   "metadata": {},
   "source": [
    "### Regex Method 2 - re.findall(pattern, string)\n",
    "\n",
    "This returns the pattern itself"
   ]
  },
  {
   "cell_type": "code",
   "execution_count": 62,
   "metadata": {
    "scrolled": true
   },
   "outputs": [
    {
     "name": "stdout",
     "output_type": "stream",
     "text": [
      "0 \u001b[31mAJS_1946_51_4_Antipathy and Social Behavior.pdf\u001b[0m\n",
      "\u001b[34mAccessed: 06-06-2016 18:17 UTC\u001b[0m\n",
      "\u001b[35mAbstract match:\u001b[0m \u001b[35m<re.Match object; span=(1064, 1072), match='ABSTRACT'>\u001b[0m\n",
      "1 \u001b[31mAJS_1946_51_4_Definitions of Economic Terms in the Dictionary of Sociology.pdf\u001b[0m\n",
      "\u001b[34mAccessed: 06-06-2016 18:25 UTC\u001b[0m\n",
      "\u001b[35mAbstract match:\u001b[0m \u001b[35m<re.Match object; span=(1139, 1147), match='ABSTRACT'>\u001b[0m\n",
      "\u001b[32mChart match:\u001b[0m \u001b[32m<re.Match object; span=(39031, 39036), match='CHART'>\u001b[0m\n",
      "\u001b[32mChart match:\u001b[0m \u001b[32m<re.Match object; span=(39837, 39842), match='CHART'>\u001b[0m\n",
      "2 \u001b[31mAJS_1946_51_4_Ethnic Behavior in Industry-Sponsorship and Rejection in a New England Factory.pdf\u001b[0m\n",
      "\u001b[34mAccessed: 06-06-2016 18:19 UTC\u001b[0m\n",
      "\u001b[35mAbstract match:\u001b[0m \u001b[35m<re.Match object; span=(1158, 1166), match='ABSTRACT'>\u001b[0m\n",
      "\u001b[32mChart match:\u001b[0m \u001b[32m<re.Match object; span=(5933, 5938), match='CHART'>\u001b[0m\n",
      "3 \u001b[31mAJS_1946_51_4_Intermarriages Between German Pioneers and Other Nationalities in Minnesota in 1860 and 1870.pdf\u001b[0m\n",
      "\u001b[34mAccessed: 06-06-2016 18:20 UTC\u001b[0m\n",
      "\u001b[35mAbstract match:\u001b[0m \u001b[35m<re.Match object; span=(1208, 1216), match='ABSTRACT'>\u001b[0m\n",
      "4 \u001b[31mAJS_1946_51_4_Methods of Measurement of Aesthetic Folkways.pdf\u001b[0m\n",
      "\u001b[34mAccessed: 06-06-2016 18:15 UTC\u001b[0m\n",
      "\u001b[35mAbstract match:\u001b[0m \u001b[35m<re.Match object; span=(1090, 1098), match='ABSTRACT'>\u001b[0m\n",
      "\u001b[32mChart match:\u001b[0m \u001b[32m<re.Match object; span=(5500, 5505), match='CHART'>\u001b[0m\n",
      "\u001b[32mChart match:\u001b[0m \u001b[32m<re.Match object; span=(6250, 6255), match='CHART'>\u001b[0m\n",
      "\u001b[32mChart match:\u001b[0m \u001b[32m<re.Match object; span=(22128, 22133), match='CHART'>\u001b[0m\n",
      "\u001b[32mChart match:\u001b[0m \u001b[32m<re.Match object; span=(24151, 24156), match='CHART'>\u001b[0m\n",
      "\u001b[32mChart match:\u001b[0m \u001b[32m<re.Match object; span=(24250, 24255), match='CHART'>\u001b[0m\n",
      "5 \u001b[31mAJS_1946_51_4_Patients and Prejudice-Lay Attitudes Toward Women Physicians.pdf\u001b[0m\n",
      "\u001b[34mAccessed: 06-06-2016 18:16 UTC\u001b[0m\n",
      "\u001b[35mAbstract match:\u001b[0m \u001b[35m<re.Match object; span=(1363, 1371), match='ABSTRACT'>\u001b[0m\n",
      "\u001b[32mChart match:\u001b[0m \u001b[32m<re.Match object; span=(12826, 12831), match='CHART'>\u001b[0m\n",
      "\u001b[32mChart match:\u001b[0m \u001b[32m<re.Match object; span=(14650, 14655), match='CHART'>\u001b[0m\n",
      "6 \u001b[31mAJS_1946_51_4_Social Class and Friendship Among School Children.pdf\u001b[0m\n",
      "\u001b[34mAccessed: 06-06-2016 18:21 UTC\u001b[0m\n",
      "\u001b[35mAbstract match:\u001b[0m \u001b[35m<re.Match object; span=(1335, 1343), match='ABSTRACT'>\u001b[0m\n",
      "7 \u001b[31mAJS_1946_51_4_Sociology and the Atom.pdf\u001b[0m\n",
      "\u001b[34mAccessed: 06-06-2016 18:13 UTC\u001b[0m\n",
      "\u001b[35mAbstract match:\u001b[0m \u001b[35m<re.Match object; span=(1134, 1142), match='ABSTRACT'>\u001b[0m\n",
      "8 \u001b[31mAJS_1951_56_4_Georg Simmel and Totalitarian Integration.pdf\u001b[0m\n",
      "\u001b[34mAccessed: 06-06-2016 18:33 UTC\u001b[0m\n",
      "\u001b[35mAbstract match:\u001b[0m \u001b[35m<re.Match object; span=(1078, 1086), match='ABSTRACT'>\u001b[0m\n",
      "9 \u001b[31mAJS_1951_56_4_Institutional Vulnerability in Mass Society.pdf\u001b[0m\n",
      "\u001b[34mAccessed: 06-06-2016 18:30 UTC\u001b[0m\n",
      "\u001b[35mAbstract match:\u001b[0m \u001b[35m<re.Match object; span=(1089, 1097), match='ABSTRACT'>\u001b[0m\n",
      "10 \u001b[31mAJS_1951_56_4_Job-Seeking and the Readjustment Allowance for Veterans.pdf\u001b[0m\n",
      "\u001b[34mAccessed: 06-06-2016 18:32 UTC\u001b[0m\n",
      "\u001b[35mAbstract match:\u001b[0m \u001b[35m<re.Match object; span=(1151, 1159), match='ABSTRACT'>\u001b[0m\n",
      "11 \u001b[31mAJS_1951_56_4_Population Private Ownership Technology and the Standard of Living.pdf\u001b[0m\n",
      "\u001b[34mAccessed: 06-06-2016 18:28 UTC\u001b[0m\n",
      "\u001b[35mAbstract match:\u001b[0m \u001b[35m<re.Match object; span=(1157, 1165), match='ABSTRACT'>\u001b[0m\n",
      "12 \u001b[31mAJS_1951_56_4_Types of Integration and Their Measurement.pdf\u001b[0m\n",
      "\u001b[34mAccessed: 06-06-2016 18:31 UTC\u001b[0m\n",
      "\u001b[35mAbstract match:\u001b[0m \u001b[35m<re.Match object; span=(1095, 1103), match='ABSTRACT'>\u001b[0m\n",
      "13 \u001b[31mAJS_1951_56_4_Witch Beliefs and Social Structure.pdf\u001b[0m\n",
      "\u001b[34mAccessed: 06-06-2016 18:27 UTC\u001b[0m\n",
      "\u001b[35mAbstract match:\u001b[0m \u001b[35m<re.Match object; span=(1139, 1147), match='ABSTRACT'>\u001b[0m\n",
      "14 \u001b[31mAJS_1956_61_4_Anomie, Authoritarianism, and Prejudice A Replication.pdf\u001b[0m\n",
      "\u001b[34mAccessed: 06-06-2016 18:47 UTC\u001b[0m\n",
      "\u001b[35mAbstract match:\u001b[0m \u001b[35m<re.Match object; span=(1150, 1158), match='ABSTRACT'>\u001b[0m\n",
      "15 \u001b[31mAJS_1956_61_4_Correlations Between Income and Labor-Force Participation by Race.pdf\u001b[0m\n",
      "\u001b[34mAccessed: 06-06-2016 18:44 UTC\u001b[0m\n",
      "\u001b[35mAbstract match:\u001b[0m \u001b[35m<re.Match object; span=(1146, 1154), match='ABSTRACT'>\u001b[0m\n",
      "16 \u001b[31mAJS_1956_61_4_Group Pressure and Family Breakup A Study of German Communities.pdf\u001b[0m\n",
      "\u001b[34mAccessed: 06-06-2016 18:45 UTC\u001b[0m\n",
      "\u001b[35mAbstract match:\u001b[0m \u001b[35m<re.Match object; span=(1129, 1137), match='ABSTRACT'>\u001b[0m\n",
      "17 \u001b[31mAJS_1956_61_4_Measuring Role Conflict.pdf\u001b[0m\n",
      "\u001b[34mAccessed: 06-06-2016 18:39 UTC\u001b[0m\n",
      "\u001b[35mAbstract match:\u001b[0m \u001b[35m<re.Match object; span=(1277, 1285), match='ABSTRACT'>\u001b[0m\n",
      "18 \u001b[31mAJS_1956_61_4_National Comparisons of Occupational Prestige.pdf\u001b[0m\n",
      "\u001b[34mAccessed: 06-06-2016 18:43 UTC\u001b[0m\n",
      "\u001b[35mAbstract match:\u001b[0m \u001b[35m<re.Match object; span=(1126, 1134), match='ABSTRACT'>\u001b[0m\n",
      "19 \u001b[31mAJS_1956_61_4_Pitfalls in the Analysis of Panel Data A Research Note on Some Technical Aspects of Voting.pdf\u001b[0m\n",
      "\u001b[34mAccessed: 06-06-2016 18:48 UTC\u001b[0m\n",
      "\u001b[35mAbstract match:\u001b[0m \u001b[35mNone\u001b[0m\n",
      "20 \u001b[31mAJS_1956_61_4_Role-Taking, Role Standpoint, and Reference-Group Behavior.pdf\u001b[0m\n",
      "\u001b[34mAccessed: 06-06-2016 18:42 UTC\u001b[0m\n",
      "\u001b[35mAbstract match:\u001b[0m \u001b[35m<re.Match object; span=(1346, 1354), match='ABSTRACT'>\u001b[0m\n",
      "21 \u001b[31mAJS_1956_61_4_The Development of Identification with an Occupation.pdf\u001b[0m\n",
      "\u001b[34mAccessed: 06-06-2016 18:38 UTC\u001b[0m\n",
      "\u001b[35mAbstract match:\u001b[0m \u001b[35m<re.Match object; span=(1447, 1455), match='ABSTRACT'>\u001b[0m\n",
      "22 \u001b[31mAJS_1956_61_4_The Druggists' Dilemma Problems of a Marginal Occupation.pdf\u001b[0m\n",
      "\u001b[34mAccessed: 06-06-2016 18:41 UTC\u001b[0m\n",
      "\u001b[35mAbstract match:\u001b[0m \u001b[35m<re.Match object; span=(1358, 1366), match='ABSTRACT'>\u001b[0m\n",
      "23 \u001b[31mAJS_1956_61_4_The Extra-Professional Role of the Lawyer.pdf\u001b[0m\n",
      "\u001b[34mAccessed: 06-06-2016 18:40 UTC\u001b[0m\n",
      "\u001b[35mAbstract match:\u001b[0m \u001b[35m<re.Match object; span=(1130, 1138), match='ABSTRACT'>\u001b[0m\n",
      "24 \u001b[31mAJS_1961_66_4_Modifications of the Dorn-Stouffer-Tibbitts Method for Testing the Significance of Comparisons in Sociological Data.pdf\u001b[0m\n",
      "\u001b[34mAccessed: 06-06-2016 18:59 UTC\u001b[0m\n",
      "\u001b[35mAbstract match:\u001b[0m \u001b[35m<re.Match object; span=(1465, 1473), match='ABSTRACT'>\u001b[0m\n",
      "25 \u001b[31mAJS_1961_66_4_Organizational Prestige Some Functions and Dysfunctions.pdf\u001b[0m\n",
      "\u001b[34mAccessed: 06-06-2016 18:52 UTC\u001b[0m\n",
      "\u001b[35mAbstract match:\u001b[0m \u001b[35m<re.Match object; span=(1113, 1121), match='ABSTRACT'>\u001b[0m\n",
      "26 \u001b[31mAJS_1961_66_4_Professions in Process.pdf\u001b[0m\n",
      "\u001b[34mAccessed: 06-06-2016 18:51 UTC\u001b[0m\n",
      "\u001b[35mAbstract match:\u001b[0m \u001b[35m<re.Match object; span=(1076, 1084), match='ABSTRACT'>\u001b[0m\n",
      "27 \u001b[31mAJS_1961_66_4_The Clubs in Crisis Race Relations in the New West Africa.pdf\u001b[0m\n",
      "\u001b[34mAccessed: 06-06-2016 18:50 UTC\u001b[0m\n",
      "\u001b[35mAbstract match:\u001b[0m \u001b[35m<re.Match object; span=(1224, 1232), match='ABSTRACT'>\u001b[0m\n",
      "28 \u001b[31mAJS_1961_66_4_The Ecology of Indonesian Cities.pdf\u001b[0m\n",
      "\u001b[34mAccessed: 06-06-2016 18:54 UTC\u001b[0m\n",
      "\u001b[35mAbstract match:\u001b[0m \u001b[35m<re.Match object; span=(1065, 1073), match='ABSTRACT'>\u001b[0m\n",
      "29 \u001b[31mAJS_1961_66_4_Theory, Measurement, and Replication in the Social Sciences.pdf\u001b[0m\n",
      "\u001b[34mAccessed: 06-06-2016 18:53 UTC\u001b[0m\n",
      "\u001b[35mAbstract match:\u001b[0m \u001b[35m<re.Match object; span=(1129, 1137), match='ABSTRACT'>\u001b[0m\n",
      "30 \u001b[31mAJS_1966_71_4_Group Differences in Perception A Study of Community Beliefs and Feelings About Tuberculosis.pdf\u001b[0m\n",
      "\u001b[34mAccessed: 06-06-2016 19:11 UTC\u001b[0m\n",
      "\u001b[35mAbstract match:\u001b[0m \u001b[35m<re.Match object; span=(1193, 1201), match='ABSTRACT'>\u001b[0m\n",
      "31 \u001b[31mAJS_1966_71_4_Individual Commitment to Industrialization in Rural Mexico.pdf\u001b[0m\n",
      "\u001b[34mAccessed: 06-06-2016 19:07 UTC\u001b[0m\n",
      "\u001b[35mAbstract match:\u001b[0m \u001b[35m<re.Match object; span=(1154, 1162), match='ABSTRACT'>\u001b[0m\n",
      "32 \u001b[31mAJS_1966_71_4_Intermarriage of Puerto Ricans in New York City.pdf\u001b[0m\n",
      "\u001b[34mAccessed: 06-06-2016 19:09 UTC\u001b[0m\n",
      "\u001b[35mAbstract match:\u001b[0m \u001b[35m<re.Match object; span=(1109, 1117), match='ABSTRACT'>\u001b[0m\n",
      "33 \u001b[31mAJS_1966_71_4_Role Strain in Diversified Role Sets.pdf\u001b[0m\n",
      "\u001b[34mAccessed: 06-06-2016 19:02 UTC\u001b[0m\n",
      "\u001b[35mAbstract match:\u001b[0m \u001b[35m<re.Match object; span=(1375, 1383), match='ABSTRACT'>\u001b[0m\n",
      "34 \u001b[31mAJS_1966_71_4_Some Influence of Hebraic Culture on Modern Social Organization.pdf\u001b[0m\n",
      "\u001b[34mAccessed: 06-06-2016 19:08 UTC\u001b[0m\n",
      "\u001b[35mAbstract match:\u001b[0m \u001b[35m<re.Match object; span=(1127, 1135), match='ABSTRACT'>\u001b[0m\n",
      "35 \u001b[31mAJS_1966_71_4_Substance and Artifact The Current Status of Research on Community Power Structure.pdf\u001b[0m\n"
     ]
    },
    {
     "name": "stdout",
     "output_type": "stream",
     "text": [
      "\u001b[34mAccessed: 06-06-2016 19:13 UTC\u001b[0m\n",
      "\u001b[35mAbstract match:\u001b[0m \u001b[35mNone\u001b[0m\n",
      "36 \u001b[31mAJS_1966_71_4_The Altruism Scale A Measure of Co-operative, Individualistic, and Competitive Interpersonal Orientation.pdf\u001b[0m\n",
      "\u001b[34mAccessed: 06-06-2016 19:10 UTC\u001b[0m\n",
      "\u001b[35mAbstract match:\u001b[0m \u001b[35m<re.Match object; span=(1432, 1440), match='ABSTRACT'>\u001b[0m\n",
      "CPU times: user 54.7 s, sys: 792 ms, total: 55.5 s\n",
      "Wall time: 59.6 s\n"
     ]
    }
   ],
   "source": [
    "%%time\n",
    "#re.findall(r'Accessed: \\d{2}-\\d{2}-\\d{4} \\d{2}:\\d{2} UTC', string)\n",
    "for indx, file in enumerate(pdfPaths):\n",
    "    print(indx, colored(file, 'red'))\n",
    "    string = PDFtoString(os.path.join(pdfFolder, file))\n",
    "    print(colored(re.findall(r'Accessed: \\d{2}-\\d{2}-\\d{4} \\d{2}:\\d{2} UTC', string)[0], 'blue'))\n",
    "    print(colored('Abstract match:', 'magenta'), colored(re.search(r'ABSTRACT', string), 'magenta'))\n",
    "    matches = re.finditer(r'CHART', string)\n",
    "    for match in matches:\n",
    "        print(colored('Chart match:', 'green'), colored(match, 'green'))"
   ]
  },
  {
   "cell_type": "markdown",
   "metadata": {},
   "source": [
    "### Split string by re.compile(pattern, string) return val"
   ]
  },
  {
   "cell_type": "code",
   "execution_count": 28,
   "metadata": {},
   "outputs": [],
   "source": [
    "access_ts = r'(Accessed: \\d{2}-\\d{2}-\\d{4} \\d{2}:\\d{2} UTC)'\n",
    "#JSTOR_msg = r'\\n \\nREFERENCES \\nLinked references are available on JSTOR for this article:\\nhttp://www.jstor.org/stable/2774936?seq=1&cid=pdf-reference#references_tab_contents \\nYou may need to log in to JSTOR to access the linked references.\\n \\nYour use of the JSTOR archive indicates your acceptance of the Terms & Conditions of Use, available at\\n\\nhttp://about.jstor.org/terms\\n\\n \\n\\nJSTOR is a not-for-profit service that helps scholars, researchers, and students discover, use, and build upon a wide range of content in a trusted\\n\\ndigital archive. We use information technology and tools to increase productivity and facilitate new forms of scholarship. For more information about\\n\\nJSTOR, please contact support@jstor.org.\\n\\nThe University of Chicago Press is collaborating with JSTOR to digitize, preserve and extend access to\\nAmerican Journal of Sociology\\n\\n'\n",
    "JSTOR_msg = r'[A-Za-z]*, [0-9]* [A-Za-z]* [0-9]* [0-9][0-9]:[0-9][0-9]:[0-9][0-9] UTC'\n",
    "str_split = re.split(access_ts, string)\n",
    "# 0 --> Header w/out access date; 1 --> access_ts; 2 --> Body"
   ]
  },
  {
   "cell_type": "code",
   "execution_count": 29,
   "metadata": {
    "collapsed": true
   },
   "outputs": [
    {
     "name": "stdout",
     "output_type": "stream",
     "text": [
      "<re.Match object; span=(883, 912), match='Mon, 06 Jun 2016 19:10:40 UTC'>\n",
      "<re.Match object; span=(4964, 4993), match='Mon, 06 Jun 2016 19:10:40 UTC'>\n",
      "<re.Match object; span=(9452, 9481), match='Mon, 06 Jun 2016 19:10:40 UTC'>\n",
      "<re.Match object; span=(13959, 13988), match='Mon, 06 Jun 2016 19:10:40 UTC'>\n",
      "<re.Match object; span=(18628, 18657), match='Mon, 06 Jun 2016 19:10:40 UTC'>\n",
      "<re.Match object; span=(21470, 21499), match='Mon, 06 Jun 2016 19:10:40 UTC'>\n",
      "<re.Match object; span=(25908, 25937), match='Mon, 06 Jun 2016 19:10:40 UTC'>\n",
      "<re.Match object; span=(30498, 30527), match='Mon, 06 Jun 2016 19:10:40 UTC'>\n",
      "<re.Match object; span=(34398, 34427), match='Mon, 06 Jun 2016 19:10:40 UTC'>\n",
      "<re.Match object; span=(38880, 38909), match='Mon, 06 Jun 2016 19:10:40 UTC'>\n",
      "<re.Match object; span=(43347, 43376), match='Mon, 06 Jun 2016 19:10:40 UTC'>\n"
     ]
    }
   ],
   "source": [
    "matches = re.finditer(JSTOR_msg, str_split[2])\n",
    "for match in matches:\n",
    "    print(match)"
   ]
  },
  {
   "cell_type": "code",
   "execution_count": 30,
   "metadata": {},
   "outputs": [
    {
     "name": "stdout",
     "output_type": "stream",
     "text": [
      "0 <re.Match object; span=(883, 913), match='Mon, 06 Jun 2016 19:10:40 UTC\\n'>\n",
      "1 <re.Match object; span=(4964, 4994), match='Mon, 06 Jun 2016 19:10:40 UTC\\n'>\n",
      "2 <re.Match object; span=(9452, 9482), match='Mon, 06 Jun 2016 19:10:40 UTC\\n'>\n",
      "3 <re.Match object; span=(13959, 13989), match='Mon, 06 Jun 2016 19:10:40 UTC\\n'>\n",
      "4 <re.Match object; span=(18628, 18658), match='Mon, 06 Jun 2016 19:10:40 UTC\\n'>\n",
      "5 <re.Match object; span=(21470, 21500), match='Mon, 06 Jun 2016 19:10:40 UTC\\n'>\n",
      "6 <re.Match object; span=(25908, 25938), match='Mon, 06 Jun 2016 19:10:40 UTC\\n'>\n",
      "7 <re.Match object; span=(30498, 30528), match='Mon, 06 Jun 2016 19:10:40 UTC\\n'>\n",
      "8 <re.Match object; span=(34398, 34428), match='Mon, 06 Jun 2016 19:10:40 UTC\\n'>\n",
      "9 <re.Match object; span=(38880, 38910), match='Mon, 06 Jun 2016 19:10:40 UTC\\n'>\n",
      "10 <re.Match object; span=(43347, 43377), match='Mon, 06 Jun 2016 19:10:40 UTC\\n'>\n"
     ]
    }
   ],
   "source": [
    "JSTOR_msg = r'[A-Za-z]*,\\s*[0-9]*\\s*[A-Za-z]*\\s*[0-9]*\\s*[0-9][0-9]:[0-9][0-9]:[0-9][0-9]\\s*UTC\\s*'\n",
    "matches = re.finditer(JSTOR_msg, str_split[2])\n",
    "for indx, match in enumerate(matches):\n",
    "    print(indx, match)"
   ]
  },
  {
   "cell_type": "code",
   "execution_count": 48,
   "metadata": {},
   "outputs": [
    {
     "name": "stdout",
     "output_type": "stream",
     "text": [
      "0 <re.Match object; span=(5388, 5428), match='408 THE AMERICAN JOURNAL OF SOCIOLOGY\\n\\n '>\n",
      "1 <re.Match object; span=(21894, 21935), match='412 THE AMERICAN JOURNAL OF SOCIOLOGY\\n\\n 8'>\n",
      "2 <re.Match object; span=(30922, 30962), match='414 THE AMERICAN JOURNAL OF SOCIOLOGY\\n\\n '>\n",
      "3 <re.Match object; span=(39304, 39344), match='416 THE AMERICAN JOURNAL OF SOCIOLOGY\\n\\n '>\n"
     ]
    }
   ],
   "source": [
    "AJS_mark = r'\\d*\\s*THE\\s*AMERICAN\\s*JOURNAL\\s*OF\\s*SOCIOLOGY\\s*\\d*\\s*'\n",
    "AJS_matches = re.finditer(AJS_mark, string)\n",
    "for indx, match in enumerate(AJS_matches):\n",
    "    print(indx, match)"
   ]
  },
  {
   "cell_type": "code",
   "execution_count": 57,
   "metadata": {},
   "outputs": [],
   "source": [
    "for match in matches:\n",
    "    print(match)"
   ]
  },
  {
   "cell_type": "code",
   "execution_count": 71,
   "metadata": {},
   "outputs": [
    {
     "name": "stdout",
     "output_type": "stream",
     "text": [
      "<re.Match object; span=(3854, 3861), match='Table 1'>\n",
      "<re.Match object; span=(4183, 4190), match='Table 1'>\n",
      "<re.Match object; span=(13019, 13026), match='Table 1'>\n",
      "<re.Match object; span=(15229, 15236), match='Table 1'>\n",
      "<re.Match object; span=(17843, 17850), match='Table 2'>\n",
      "<re.Match object; span=(19813, 19820), match='Table 3'>\n"
     ]
    }
   ],
   "source": [
    "for table in re.finditer(r'Table \\d*', string):\n",
    "    print(table)"
   ]
  },
  {
   "cell_type": "code",
   "execution_count": 81,
   "metadata": {},
   "outputs": [
    {
     "name": "stdout",
     "output_type": "stream",
     "text": [
      "<re.Match object; span=(19813, 19820), match='Table 3'>\n"
     ]
    },
    {
     "data": {
      "text/plain": [
       "(None, 'Table 3')"
      ]
     },
     "execution_count": 81,
     "metadata": {},
     "output_type": "execute_result"
    }
   ],
   "source": [
    "print(table), table.group()"
   ]
  },
  {
   "cell_type": "code",
   "execution_count": null,
   "metadata": {},
   "outputs": [],
   "source": []
  }
 ],
 "metadata": {
  "kernelspec": {
   "display_name": "Python 3",
   "language": "python",
   "name": "python3"
  },
  "language_info": {
   "codemirror_mode": {
    "name": "ipython",
    "version": 3
   },
   "file_extension": ".py",
   "mimetype": "text/x-python",
   "name": "python",
   "nbconvert_exporter": "python",
   "pygments_lexer": "ipython3",
   "version": "3.7.6"
  }
 },
 "nbformat": 4,
 "nbformat_minor": 2
}
