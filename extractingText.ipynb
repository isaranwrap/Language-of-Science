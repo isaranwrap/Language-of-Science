{
 "cells": [
  {
   "cell_type": "markdown",
   "metadata": {},
   "source": [
    "### Imports, Reading in files & Defining functions"
   ]
  },
  {
   "cell_type": "code",
   "execution_count": 1,
   "metadata": {
    "code_folding": [
     15,
     32,
     48,
     50,
     79
    ]
   },
   "outputs": [],
   "source": [
    "import os\n",
    "import re\n",
    "import io\n",
    "from tqdm import tqdm\n",
    "from termcolor import colored\n",
    "from colorama import Back, Style\n",
    "\n",
    "from pdfminer.converter import TextConverter\n",
    "from pdfminer.layout import LAParams\n",
    "from pdfminer.pdfdocument import PDFDocument\n",
    "from pdfminer.pdfinterp import PDFResourceManager, PDFPageInterpreter\n",
    "from pdfminer.pdfpage import PDFPage\n",
    "from pdfminer.pdfparser import PDFParser\n",
    "\n",
    "\n",
    "def PDFtoString(filePath, pdfFolder=None):\n",
    "    \n",
    "    out = io.StringIO()\n",
    "    if pdfFolder is not None:\n",
    "        filePath = os.path.join(pdfFolder, filePath)\n",
    "    with open(filePath, 'rb') as f:\n",
    "        parser = PDFParser(f)\n",
    "        doc = PDFDocument(parser)\n",
    "        rsrcmgr = PDFResourceManager()\n",
    "        device = TextConverter(rsrcmgr, out, laparams=LAParams())\n",
    "        interpreter = PDFPageInterpreter(rsrcmgr, device)\n",
    "        for indx, page in enumerate(PDFPage.create_pages(doc)):\n",
    "            #if indx != 0:\n",
    "            interpreter.process_page(page)\n",
    "            \n",
    "    return out.getvalue() \n",
    "\n",
    "def printMetaInfo(convertedStrings, pdfPaths):\n",
    "    \n",
    "    # Print the regex matches for access date, abstract, table/chart, and references\n",
    "    for indx, string in enumerate(convertedStrings):\n",
    "        print(indx, colored(pdfPaths[indx], 'red'))\n",
    "        if re.findall(r'Accessed: \\d{2}-\\d{2}-\\d{4} \\d{2}:\\d{2} UTC', string):\n",
    "            print('\\t', colored(re.findall(r'Accessed: \\d{2}-\\d{2}-\\d{4} \\d{2}:\\d{2} UTC', string)[0], 'blue'))\n",
    "        print('\\t', colored('Abstract match:', 'magenta'), colored(re.search(r'ABSTRACT', string), 'magenta'))\n",
    "        matches = re.finditer(r'CHART', string)\n",
    "        for match in matches:\n",
    "            print('\\t', colored('Chart match:', 'green'), colored(match, 'green'))\n",
    "        matches = re.finditer(r'TABLE', string)\n",
    "        for match in matches:\n",
    "            print('\\t', colored('Table match:', 'green'), colored(match, 'green'))\n",
    "        print('\\t', colored('Reference match:', 'magenta'), colored(re.search(r'REFERENCE', string), 'magenta'))\n",
    "    \n",
    "def createOutputFile(convertedStrings):\n",
    "    out = list()\n",
    "    for indx, string in enumerate(convertedStrings):\n",
    "        outString = '-------------\\n||Meta-info||\\n-------------\\n'\n",
    "        outString += re.findall(r'Accessed: \\d{2}-\\d{2}-\\d{4} \\d{2}:\\d{2} UTC', string)[0] + '\\n'\n",
    "\n",
    "        abstract = re.search(r'ABSTRACT', string)\n",
    "        if abstract is not None:\n",
    "            outString += 'Abstract match at {}'.format(abstract.span()) + '\\n'\n",
    "        elif abstract is None:\n",
    "            outString += 'No abstract found.\\n'\n",
    "        chart_matches = re.finditer(r'CHART', string)    \n",
    "        if chart_matches is not None:\n",
    "            for match in chart_matches:\n",
    "                outString += 'Chart match at {}'.format(match.span()) + '\\n'\n",
    "\n",
    "        table_matches = re.finditer(r'TABLE', string)\n",
    "        if table_matches is not None:\n",
    "            for match in table_matches:\n",
    "                outString += 'Chart match at {}'.format(match.span()) + '\\n'\n",
    "\n",
    "        references = re.search(r'REFERENCES', string)\n",
    "        if references is not None:\n",
    "            outString += 'Reference match at {}'.format(references.span()) + '\\n'\n",
    "        elif references is None:\n",
    "            outString += 'No reference section found.\\n'\n",
    "        outString += '\\n-----------\\n||Article||\\n-----------\\n'\n",
    "        outString += string\n",
    "        out.append(outString)\n",
    "    return out\n",
    "\n",
    "def highlight(pattern, text, print_output=True):\n",
    "    output = text\n",
    "    lookforward = 0\n",
    "    for match in pattern.finditer(text):\n",
    "        start, end = match.start() + lookforward, match.end() + lookforward\n",
    "        output = output[:start] + Back.YELLOW + Style.BRIGHT + output[start:end] + Style.RESET_ALL + output[end:]\n",
    "        lookforward = len(output) - len(text)  \n",
    "\n",
    "    if print_output:\n",
    "        print(output)\n",
    "    else:\n",
    "        return output"
   ]
  },
  {
   "cell_type": "markdown",
   "metadata": {},
   "source": [
    "### Converting AJS articles into strings (this is the time consuming step)"
   ]
  },
  {
   "cell_type": "code",
   "execution_count": 2,
   "metadata": {},
   "outputs": [
    {
     "name": "stderr",
     "output_type": "stream",
     "text": [
      "100%|██████████| 63/63 [01:29<00:00,  1.41s/it]\n",
      "100%|██████████| 37/37 [00:46<00:00,  1.26s/it]\n",
      "100%|██████████| 68/68 [02:56<00:00,  2.60s/it]"
     ]
    },
    {
     "name": "stdout",
     "output_type": "stream",
     "text": [
      "CPU times: user 4min 57s, sys: 3.5 s, total: 5min 1s\n",
      "Wall time: 5min 12s\n"
     ]
    },
    {
     "name": "stderr",
     "output_type": "stream",
     "text": [
      "\n"
     ]
    }
   ],
   "source": [
    "%%time\n",
    "# AJS articles - split into 3 periods\n",
    "\n",
    "pre1946 = '/Users/Praveens/Desktop/ishan/Language-of-Science/articles/AJS pdf files/pre1946/'\n",
    "pre1946pdfs = os.listdir(pre1946) # list of all the pdf files \n",
    "pre1946pdfs.sort() # sort by year (and title)\n",
    "\n",
    "l946to1966 = '/Users/Praveens/Desktop/ishan/Language-of-Science/articles/AJS pdf files/1946to1966/'\n",
    "l946to1966pdfs = os.listdir(l946to1966) # list of all the pdf files\n",
    "l946to1966pdfs.sort()\n",
    "\n",
    "post1971 = '/Users/Praveens/Desktop/ishan/Language-of-Science/articles/AJS pdf files/post1971/'\n",
    "post1971pdfs = os.listdir(post1971) # list of all the pdf files\n",
    "post1971pdfs.sort()\n",
    "\n",
    "# Convert the articles to strings... this is the time-consuming step\n",
    "convertedStrings_pre1946 = [PDFtoString(os.path.join(pre1946, file)) for file in tqdm(pre1946pdfs)]\n",
    "convertedStrings_1946to1966 = [PDFtoString(os.path.join(l946to1966, file)) for file in tqdm(l946to1966pdfs)]\n",
    "convertedStrings_post1971 = [PDFtoString(os.path.join(post1971, file)) for file in tqdm(post1971pdfs)]"
   ]
  },
  {
   "cell_type": "markdown",
   "metadata": {},
   "source": [
    "### String pre-processing"
   ]
  },
  {
   "cell_type": "code",
   "execution_count": 3,
   "metadata": {
    "scrolled": true
   },
   "outputs": [
    {
     "name": "stdout",
     "output_type": "stream",
     "text": [
      "      Recent Sociological Tendencies in France\n",
      "Author(s): James H. Tufts\n",
      "Source: American Journal of Sociology, Vol. 1, No. 4 (Jan., 1896), pp. 446-456\n",
      "Published by: The University of Chicago Press\n",
      "Stable URL: http://www.jstor.org/stable/2761875\n",
      "Accessed: 08-05-2016 23:09 UTC Your use of the JSTOR archive indicates your acceptance of the Terms & Conditions of Use, available at http://about.jstor.org/terms JSTOR is a not-for-profit service that helps scholars, researchers, and students discover, use, and build upon a wide range of content in a trusted digital archive. We use information technology and tools to increase productivity and facilitate new forms of scholarship. For more information about JSTOR, please contact support@jstor.org. The University of Chicago Press is collaborating with JSTOR to digitize, preserve and extend access to\n",
      "American Journal of Sociology \u001b[43m\u001b[1mThis content downloaded from 170.140.105.123 on Sun, 08 May 2016 23:09:52 UTC\n",
      "All use subject to http://about.jstor.org/terms \f",
      "\u001b[0m RECENT SOCIOLOGICAL TENDENCIES IN FRANCE.  IT is the purpose of the present article to call attention to  some of the recent tendencies in sociological discussion in  France, and to offer some comments from the point of view of  psychology and the history of thought.  Recent discussions in France, as is indicated by the titles  cited, have dealt largely with the province and methods of soci-  ology. The works of Tarde and Durkheim 2 are the most  thoroughgoing in this respect and have occasioned most of the  other literature here noticed. What then are the conceptions of  the distinctive characteristic of social facts, the subject matter  for sociology?  M. Tarde, as is well known, finds the characteristic of social  phenomena to be imitation.3 He is especially concerned in the  first of the two works under consideration with the problem of  marking off sociology from the history of societies and from  biology. As opposed to certain evolutionists who regard all insti-  tutions (law is the special institution here taken for illustration  of the general principles) as having passed through the same  stages under the influence of biological causes, Tarde holds  that these causes are by no means the only forces at work.  Social facts may be the effect of invention and discovery or of  \"Les transformations du droit, G. TARDE, 2 ieme ed., Alcan, 1894. Review of the  above, R. BERTHELOT, Revue de metaphysique et de morale, I893, PP. 507-I8. L'imi-\n",
      " tation et la logique sociale, R. BERTHELOT, ibid. I894, PP. 93-7. Le probe9me de la\n",
      " sociologie, G. SIMMEL, ibid., 1894, PP. 497-504. Les r?gles de la mi/hode sociologique,\n",
      " E. DURKHEIM, Revue philosophique, May-August, 1894. La sociologie: ses conditions  d 'existence, son importance scientifique et philosophique, M. BERNkS, Revue de met. et\n",
      " de morale, March I895. Sur la methode de la sociologie, M. BERNEIS, Revue philos.,  March and April I895. L'Annee sociologique, 1894, P. LAPIE, Revue de met. et de la  morale, May 1895. La logique sociale, G. TARDE, Paris, Alcan, I895.  2 His articles cited above are a sort of methodological supplement to his work La  division du travail social.  3Les lois de l'imitation, I890.  446 \u001b[43m\u001b[1mThis content downloaded from 170.140.105.123 on Sun, 08 May 2016 23:09:52 UTC\n",
      "All use subject to http://about.jstor.org/terms \f",
      "\u001b[0m RECENT SOCIOLOGICAL TENDENCIES IN FRANCE. 447  imitation. In the first case we seek explanations for similar social  facts in the problems set man by his environment and in the  response due to his constitution. This is to explain by physical  and physiological (why not psychological?) laws. In the second  case we have the data for a \" pure \" as opposed to a \" general \"  sociology since we have to do only with social causes. These  social causes all falling under the principle of imitation may be  of two sorts, logical or non-logical. Imitation may be called  logical when a given invention is imitated because more useful,  i. e., according better with the end fixed by the desires, or because  it is believed to be truer, i. e., more in accord with the principle  underlying the beliefs of the imitator. When, on the other hand,  imitation is caused by a preference due to the origin or date of  an invention it may be called non-logical.  M. Berthelot in his review of Tarde objects that to limit  social facts to those in which imitation is involved is to beg the  question. If we are to refer every conscious activity other than  imitation to the mental and this in turn to the physiological consti-  tution, why is it not equally true that imitation is itself to be  biologically explained? We cannot escape biology in this way.  There are many inventions necessary for the existence of society  and due to the influence of the social group. These are the true  subjects for investigation by a \"pure\" sociology, and should  form the content of social logic. Imitation comes into the sphere  of sociology just so far as it is thus necessary. It should be  subordinate to social logic, not the first principle under which  social logic is ranged as a minor part. To make imitation the sole  principle is to use it as the Ionic philosophers used water, air, etc.  Simmel also attempts to delimit the sociological from the  social in a broad sense. If sociology embraces all that happens  in society and simply reduces the individual to the social, it  would be merely a general method as, e.g., induction -not a  special science. But just as in psychology we separate out the  content of the mental states and consider only the form, so soci-  ology must isolate the distinctively social, and consider theform  of association as such, leaving the content, i. e., the objects and \u001b[43m\u001b[1mThis content downloaded from 170.140.105.123 on Sun, 08 May 2016 23:09:52 UTC\n",
      "All use subject to http://about.jstor.org/terms \f",
      "\u001b[0m 448 THE AMERICAN JOURNAL OF SOCIOLOGY.  interests realized by association, to be the subject-matter of the\n",
      " specific historical and material sciences. This \"form\" in ques-\n",
      " tion is reciprocal action, association. We are to study the special\n",
      " forms of subordination, concurrence, imitation, opposition, divis-\n",
      " ion of labor, found in the various types of social groups. But\n",
      " we must bear in mind that phenomena are not social merely\n",
      " because they are parallel, nor do similarities and regularities\n",
      " established by statistics belong to our science if each has an indi-\n",
      " vidual cause. Not what takes place in society but what takes by\n",
      " society is the field of sociology.  The criticism which Berthelot applies to Tarde above might\n",
      " also be applied to the criterion for social facts propounded by\n",
      " Durkheim. According to the latter a social fact comprises every\n",
      " kind of action, whether fixed in definite law or not, which is capa-\n",
      " ble of exercising an external constraint upon the individual, or it\n",
      " may be otherwise defined as one which is general throughout a\n",
      " given society and has a proper existence of its own, independent\n",
      " of its individual manifestations. Language, laws both statute\n",
      " and moral, religious beliefs, financial systems impose themselves\n",
      " upon the individual. They are general because collective (i. e.,\n",
      " obligatory) and not vice versa. A collective sentiment which\n",
      " flashes into life in an assembly is something quite other than the\n",
      " common element of all the individual sentiments. It is a prod-\n",
      " uct of the common life.  M. Durkheim then goes on to an elaborate and comprehen-  sive exposition of the methods to be employed by sociology.'\n",
      " These methods include-  (i) Rules relating to observation of social facts. These\n",
      " rules are: (a) consider social facts as things. Bacon's \"idols \"\n",
      " all find their counterparts in social science at present. Comte,\n",
      " with his law of the historical development of humanity, Spencer,\n",
      " with his idea of cooperation, spontaneous or imposed, as the\n",
      " essential characteristic of society, make preconceived theories  I The following rdsumd, as well as some other portions, of this article, is expanded\n",
      " from accounts which I have given in the Psychological Review for May, July and\n",
      " November, I895. \u001b[43m\u001b[1mThis content downloaded from 170.140.105.123 on Sun, 08 May 2016 23:09:52 UTC\n",
      "All use subject to http://about.jstor.org/terms \f",
      "\u001b[0m RECENT SOCIOLOGICAL TENDENCIES IN FRANCE. 449  rather than actual facts the starting point. (b) In defining and  grouping phenomena such as crime, the family, etc., use at first  external marks only, not what may be deemed the essential char-  acteristic. This last should be left to emerge as the result of  our investigation, not assumed at the outset, nor should we fix  on merely a part of the class of facts and test the rest by a  standard so derived. (c) Study especially the consolidations of  social facts in law, proverbs, modes, etc., e. g., the law of suc-  cession for determining the actual view of the family relations  which has found a permanent form.  (2) Rules for distinguishing the pathological from the nor-  mal. It is a much mooted question whether sociology shall rest  with a scientific ascertainment of facts, or whether it shall  attempt to become of practical value by telling what should be.  It is of course evident that social health is desirable; can we  point out in what it consists? The ordinary method is to assume  some criterion of health at the start (freedom from suffering,  adaptation to environment), but these are either arbitrary or  impracticable. The true objective method is to take for our cri-  terion at the outset only an external mark, viz., define the nor-  mal, merely as the general. Hence normal = the mean, dis-  eased = the exceptional. But it is evident that greater fre-  quency must ordinarily be due to superiority, to health.  (Durkheim here obviously either must leave out the notion  of moral or esthetic superiority, or make them equivalent to  physical superiority, or, assume that survival of the fittest will  secure the morally fittest-assumptions as serious as those to  which he objects); hence (a) we may control our results by  seeking the cause of the generality of a given phenomenon in its  relation to the general conditions of life in the type in question,  and (b) this becomes especially important in the case of a social  species in a transitional stage.  (3) For making the classification into social types the\n",
      " objective principle to be adopted as our standard is that of sim-  plicity, i. e., we ask whether a given group is made up of units  which enclose other units more simple than itself. \u001b[43m\u001b[1mThis content downloaded from 170.140.105.123 on Sun, 08 May 2016 23:09:52 UTC\n",
      "All use subject to http://about.jstor.org/terms \f",
      "\u001b[0m 450 THE AMERICAN JOURNAL OF SOCIOLOGY.  (4) Rules for explaining social facts. (a) It is common to  find the reason of a fact in its utility. This is to confound final  with efficient causation and is no more admissible here than in  natural science. Function and cause must be examined sepa-  rately, (But as M. Bernes insists in his article, a distinguishing  mark of society is intelligent action. While then it by no means  follows that the actual use was foreseen and so consciously aimed  at by the social group, it is nevertheless quite possible that this  may have been the case. To exclude all teleological explana-  tion from history is to assume that social facts are in no wise  different from physical facts; it begs the question in advance.)  (b) the cause of a social fact must always be sought in preced-  ing social facts, not in states of individual consciousness. (c) The  function of a social fact should be sought in the relation it sus-  tains to some social end. (d) The first origin of every social pro-  cess should be sought in the constitution of the internal social  medium. This will depend upon two factors: (a) the number  of social units, the \"volume \" of society; (,8) the degree of con-\n",
      " centration, the \" dynamic density,\" which is in turn a function of  the number of individuals who are in commercial and social rela-  tions. If we do not adopt this plan we are reduced to explain  social progress by \"tendencies\" instead of by real causes; and  further we are forced to treat all as one species in greater or less  stages of advancement.  (5) Methods of induction. (a) The doctrine of plurality of  causes, bound up with Mill's philosophic presuppositions is to be  rejected. The same effect is not produced by different causes.\n",
      " (b) The most valuable of the inductive methods for our purpose  is that of concomitant variations, for which we may draw our  facts either from a single unique society at different times, or  from several societies of the same kind, or from several of differ-  ent kinds.  The three articles of M. Bernes are devoted in part to a crit-  icism of Durkheim but develop also the author's own views of  the province and method of the science. The two dominant  characteristics of contemporary sociology are declared to be, (a) \u001b[43m\u001b[1mThis content downloaded from 170.140.105.123 on Sun, 08 May 2016 23:09:52 UTC\n",
      "All use subject to http://about.jstor.org/terms \f",
      "\u001b[0m RECENT SOCIOLOGICAL TENDENCIES INV FRANCE. 451  imitation of natural science, especially biology, and (b) absolute  opposition to subjective (psychological) sociology under all its  forms, in particular the refusal to attribute any role to the  reflective will of the members of society. These two character-  istics are sources of fundamental errors. To make sociology  purely \"objective \" is to deprive it of its essential character. The  common fault of both subjective and objective sociology is to  identify the subjective with the individual, whereas by looking  within we,may pass the bounds of individuality as truly as by  looking without. The society of which we form a part is within  us as truly as we are within it. Sociability, more or less con-  scious, is as truly an element in the social reality of the present  as is any objective social phenominon. Society is a \" becoming,\"  as well as a thing. In proportion as it more nearly approaches  co6rdinate, conscious action and corresponds better to its defini-  tion -in proportion, that is, as it creates itself --it becomes  more completely an object of science; but a science whose laws  are at once objective and ideal.  M. Tarde's Logique Sociale is too important a work for adequate  notice here. I may mention, however, its relation to his former  work and its general purpose. As indicated by its title it aims  to discover the necessary conditions of society. As Kant's logic  asked \" How is knowledge possible?\" so social logic asks \" How  is society possible?\" and finds its social categories, permanent,  necessary conditions of stable equilibrium of society. These are  either (a) logical, viz., language and the deity, or (b) teleological,  conceptions of good and evil. We study, then, the judgment and  will at work in society. Society began when the judgments and  wills of individuals came consciously into contact in agreement  or discord. Beliefs and desires constitute the body of our con-  scious life and so the sources of social phenomena. Imitation is  but the social memory, an indispensable condition, but not the  most prominent feature of social consciousness. After a prelim-  inary chapter on individual logic the categories cited above are  studied as conditions of society, various analogies are discovered  (or in some cases one is tempted to say invented) between the \u001b[43m\u001b[1mThis content downloaded from 170.140.105.123 on Sun, 08 May 2016 23:09:52 UTC\n",
      "All use subject to http://about.jstor.org/terms \f",
      "\u001b[0m 452 7HE AMERICAN JO URNA L OF SOCIOLOGY.  social and the individual consciousness, the laws of the great  inventions by which society progresses are studied, and then the  author passes to the applications of his principles to language,  religion, political economy, art, and the sentiments (le coeur). It\n",
      " is scarcely probable that the catagories announced will maintain  themselves as the only or correct oines, but the attempt to dis-  cover and develop these systematically can hardly fail to make  for real progress.  From the discussions already noted, and from the charac-  ter of other works noted by Lapie in his summary, it is evident  that there is a general tendency to recognize a more intimate  relation of sociology to psychology. As in America it has been  claimed that it is the \"psychic factor\" which is most important  (Ward) or that sociology is really a part of psychology (Gid-  dings), so French writers are becoming dissatisfied with mechan-  ical and biological conceptions and seeking for more adequate  categories. The prevailing opposition to subjective (psycholog-  ical) sociology, in particular the refusal to attribute any role to  the reflective will of members of society is declared to be fatal  to an appreciation of the really distinguishing mark of society,  viz., intelligent action. Lapie admnits the prevalence hitherto of  biological conceptions but sees in nearly all the literature of the  past year the signs of a new era. This is shown (a) in the grow-  ing dissatisfaction with the word \"organism,\" (b) in the defini-  tion of social facts and (c) in the views as to what constitutes  explanation of social facts.  It is objected that the word \" organism \" is a biological term  which has exercised a seductive but unfortunate influence on  sociological thought, nor is the objection met entirely by pre-\n",
      " fixing the adjective \" social.\" Societies are rather itres spirituels.  This dissatisfaction has been commented upon by the editor in a  former number of this journal. Some remarks from another  point of view suggest themselves. It is undoubtedly unfortunate  to use an inappropriate category. Nothing can speak more  eloquently on this point than the history of psychology itself.  The tabula rasa, the \"association\" of ideas, the \"Statik und \u001b[43m\u001b[1mThis content downloaded from 170.140.105.123 on Sun, 08 May 2016 23:09:52 UTC\n",
      "All use subject to http://about.jstor.org/terms \f",
      "\u001b[0m RECENT SOCIOLOGICAL TENDENCIES IN FRANCE. 453  Mechanik der Vorstellungen\" have drawn the psychologist into  numerous snares. But on the other hand it should be remem-  bered that nearly all psychical terms (e. g. \"psychical \" itself)  bear within them the history of the development of the con-  cept for which they stand. If the sociologists give a -new  content to the conception of society it will not be difficult to  put a new meaning into the term. Nor would this be so much  putting a new meaning into the term as bringing out the implied  significance of the word itself. For as Kant pointed out, when  alluding to the use of the term \" organization \" to denote the  body politic, this is appropriately used for a state in which every  member is both means and end to others and to the whole just  because we can understand any organized structure of nature  only by the aid of categories drawn from the mental life. Even  though we may be obliged to say that our concept is an analogy  merely, and not a constitutive category, it remains true that our  only way of conceiving an organized and self-organizing being  is by the idea of the reciprocal relation of parts and whole, and  we can conceive the unity or a manifold only in terms of  consciousness.2 The term then may well enough be retained  if we are careful to recognize its implications.  But there are conceivable advantages from making a wider  use in sociology than has been customary of another term more  distinctly set apart for the psychological sphere, viz., the term  person. This may at once suggest the objection that we are  hypostatizing an abstraction if we speak of society as a person,  since society is composed of individuals and has no distinct  existence. But it should be scarcely necessary to explain that I  use the word in its present psychological sense and not in its old  metaphysical sense of \"simple substance.\" The \"person\"  exists in the various states, feelings, etc.-, not apart from them,  and these in turn are no longer conceived as though independ-  ent entities, coming into association, inhibiting each other and  -AKr. d. Urtheilskraft, ? 65, H. V. 387.  2 So the demand for some principle that should afford the unity seen in organic  beings led Leibniz to revive the entelechy of Aristotle as the monad. Cf. WINDEL-  BAND, History of Pizilos, p. 422, note 6. \u001b[43m\u001b[1mThis content downloaded from 170.140.105.123 on Sun, 08 May 2016 23:09:52 UTC\n",
      "All use subject to http://about.jstor.org/terms \f",
      "\u001b[0m 454 THE AMERICAN JOURNAL OF SOCIOLOGY.  so on, but rather as phases of a continuous activity, isolated for  convenience in treatment. The \"self,\" as Professor James has  brilliantly shown, is a very complex and even, so to speak, plural  being. Personality, regarded as the purposive, interrelated and  unified activity of various desires may thus be of all grades  according to the degree to which impulses have passed into  conscious desires, and desires in turn have become systematized  into unity of steadfast purpose. With this in mind WundtI  urges, that the social person is as \"real\" as the individual per-  son; \"so viel Actualitdt, so viel Realitlt\" is true in either sphere.  Taking such a conception of personality as an analogy or  guiding clue, many fruitful suggestions, it seems to me, may  come to the sociologist. True it is that in individual and in  society the early life is impulsive, unrelated, with little conscious  unity of purpose,2 yet with language and religion and art, with  industrial and intellectual cooperation, many a people has come  to \"know what it wants,\" and to act unitedly in order to get it.  As Bernes puts it, \"1 Every collective aspiration which by its  realization results in consolidating the group, in making it more  complex, more plastic, more conscious of itself, becomes thereby  a cause of progress. Society corresponds better to its definition  in proportion as it creates itself.\" This consideration of the  developing social consciousness will determine the categories  which we are to apply to the explanation of its movements.  We examine, of course, the reactions of structure and function,  we observe the influence of natural selection upon choices (Gid-  dings), but we bear in mind that \"Iresponse to environment\" in  the case of conscious intelligence may mean a response which  transforms the environment as well as a response which is modi-  fied by it. Just in proportion as man individually or collectively  comes to consciousness must we use the category3 of purpose or  'See his Logik, 2te Auf. I895, Bd. II., Abth. II., pp. 29I ff., and 6ii ff., for dis-  cussion of these conceptions.  `MR. WARD, in his \"Psychic Factor in Civilization,\" has emphasized this stage  of the \"social person,\" but the stage is only a rudimentary one.  3 Cf, for the use of the category of \" Zweck \" in explaining history, A. RIEHL,  Science and Metaji/zysics, last chapter. \u001b[43m\u001b[1mThis content downloaded from 170.140.105.123 on Sun, 08 May 2016 23:09:52 UTC\n",
      "All use subject to http://about.jstor.org/terms \f",
      "\u001b[0m RECENT SOCIOLOGICAL TENDENCIES IN FRANCE. 45 5  end in explaining his activity. Just in so far can we look  for voluntary change of activity. Society, like the individual,  can move forward, if it will, but to \"will\" means for society, as  for the individual, a completely intelligent and \"mediated\"  desire, not a mere impulse nor a blind though intense feeling.  Numerous other principles will suggest themselves, such as the  relation of sociological theory to practice where evidently the  greatest current need is that felt by Socrates for the individual,  self-examination and an insight into the true good of life that  shall afford a criterion of the value of particular acts and aims.  But I pass on to notice another illustration of the psychological  tendency, viz., the definitions offered of social facts.  Here indeed the intimate relation to psychology seems often  to be felt as an embarrassment. If, as by some, social facts are  defined as psychical facts, how shall we distinguish them from  the facts studied by psychology? Where draw the line between  social and individual psychology? In some cases, at least, the  difficulty seems due to a lack of clearness on the relation between  the individual and the social, which has its counterpart in the  history of thought in the controversies over the particular and  the universal. A statement like that of Durkheim's, quoted  above, that a \"collective sentiment which flashes into life in an  assembly is something quite other than the common element of  all the individual sentiments,\" seems to be aimed at such state-  ments as those of Mill, \"men are not, when brought together,  converted into another kind of substance;\" \"human beings in  society have no properties but those which are derived from and  may be resolved into the laws of the nature of individual man.\"  But it really suffers from the same individualism. There is no  individual man for ethics, for psychology, for logic, or for sociol-  ogy, except by abstraction,-that is if by individual man we  mean a being not influenced by social forces,-nor are there any\n",
      " feelings, thoughts or volitions in any man which are independent of\n",
      " such forces. On the other hand, there is no social or collective  sentiment which exists except in the medium of individual con-  sciousness. In the words of Sigwart, \"there are no thoughts \u001b[43m\u001b[1mThis content downloaded from 170.140.105.123 on Sun, 08 May 2016 23:09:52 UTC\n",
      "All use subject to http://about.jstor.org/terms \f",
      "\u001b[0m 456 THE AMERICAN JOURNAL OF SOCIOLOGY.  which think themselves, no language which has existed except  in the speech of the individual, no belief and no science which  has shone like a universal sun above the heads of individuals, no  constitution which has existed elsewhere than in the conscious-  ness, the will, the feeling of duty or fear, of the particular citi-  zen.\"' Social psychology will not then look for an entirely  different set of psychical states from those which individual psy-  chology studies (of course it may be interested in some more  than in others); it will rather study a different aspect of the con-  crete facts of life of which other aspects are studied by individ-  ual psychology,2 just as social logic may study the same con1-  crete facts as the philosophy of law or political science. Rous-  seau's ecstatic trance when the thoughts of his first discourse  came before him is of interest to psychologist, historian, and  sociologist, not to say physiologist and alienist.  The third respect in which the psychological tendency  appears is in the general inclination to find explanations in psycho-  logical laws. This is seen by Lapie in several works of the past  year, the most notable exception being Durkheim. Here too  there is room for a careful criticism and clearing up of just what  is meant by explanation, but this would lead beyond the limits  of the present paper.  UNIVERSITY OF CHICAGO.  JAMES H. TUFTS.  L Logic (Eng. trans.), Vol. II., p. 447. The whole paragraph is an excellent  statement of the relations of the individual to the social.  2 Cf. Wundt, Logik (2te Auf.), Bd. II., Abth. II., pp. 23I ff. \u001b[43m\u001b[1mThis content downloaded from 170.140.105.123 on Sun, 08 May 2016 23:09:52 UTC\n",
      "All use subject to http://about.jstor.org/terms \f",
      "\u001b[0m\n",
      "0 \u001b[31mAJS_1896_1_4_Anti-Monopoly Legislation in the US.pdf\u001b[0m\n",
      "\t \u001b[34mAccessed: 08-05-2016 22:57 UTC\u001b[0m\n",
      "\t \u001b[35mAbstract match:\u001b[0m \u001b[35mNone\u001b[0m\n",
      "\t \u001b[35mReference match:\u001b[0m \u001b[35mNone\u001b[0m\n",
      "1 \u001b[31mAJS_1896_1_4_Business Men and Social Theorists.pdf\u001b[0m\n",
      "\t \u001b[34mAccessed: 08-05-2016 22:26 UTC\u001b[0m\n",
      "\t \u001b[35mAbstract match:\u001b[0m \u001b[35mNone\u001b[0m\n",
      "\t \u001b[35mReference match:\u001b[0m \u001b[35mNone\u001b[0m\n",
      "2 \u001b[31mAJS_1896_1_4_Christian Sociology.pdf\u001b[0m\n",
      "\t \u001b[34mAccessed: 08-05-2016 23:13 UTC\u001b[0m\n",
      "\t \u001b[35mAbstract match:\u001b[0m \u001b[35mNone\u001b[0m\n",
      "\t \u001b[35mReference match:\u001b[0m \u001b[35mNone\u001b[0m\n",
      "3 \u001b[31mAJS_1896_1_4_Contributions to Social Philosophy.pdf\u001b[0m\n",
      "\t \u001b[34mAccessed: 08-05-2016 22:51 UTC\u001b[0m\n",
      "\t \u001b[35mAbstract match:\u001b[0m \u001b[35mNone\u001b[0m\n",
      "\t \u001b[35mReference match:\u001b[0m \u001b[35mNone\u001b[0m\n",
      "4 \u001b[31mAJS_1896_1_4_Recent Sociological Tendencies in France.pdf\u001b[0m\n",
      "\t \u001b[34mAccessed: 08-05-2016 23:09 UTC\u001b[0m\n",
      "\t \u001b[35mAbstract match:\u001b[0m \u001b[35mNone\u001b[0m\n",
      "\t \u001b[35mReference match:\u001b[0m \u001b[35mNone\u001b[0m\n",
      "5 \u001b[31mAJS_1896_1_4_The Province of Sociology.pdf\u001b[0m\n",
      "\t \u001b[34mAccessed: 08-05-2016 23:18 UTC\u001b[0m\n",
      "\t \u001b[35mAbstract match:\u001b[0m \u001b[35mNone\u001b[0m\n",
      "\t \u001b[35mReference match:\u001b[0m \u001b[35mNone\u001b[0m\n",
      "6 \u001b[31mAJS_1896_1_4_The Scope and Method of Folk-Psychology.pdf\u001b[0m\n",
      "\t \u001b[34mAccessed: 08-05-2016 22:59 UTC\u001b[0m\n",
      "\t \u001b[35mAbstract match:\u001b[0m \u001b[35mNone\u001b[0m\n",
      "\t \u001b[35mReference match:\u001b[0m \u001b[35mNone\u001b[0m\n",
      "7 \u001b[31mAJS_1896_1_4_The State and Semi-Public Corporations.pdf\u001b[0m\n",
      "\t \u001b[34mAccessed: 08-05-2016 22:37 UTC\u001b[0m\n",
      "\t \u001b[35mAbstract match:\u001b[0m \u001b[35mNone\u001b[0m\n",
      "\t \u001b[35mReference match:\u001b[0m \u001b[35mNone\u001b[0m\n",
      "8 \u001b[31mAJS_1901_6_4_Municipal Development.pdf\u001b[0m\n",
      "\t \u001b[34mAccessed: 09-05-2016 04:06 UTC\u001b[0m\n",
      "\t \u001b[35mAbstract match:\u001b[0m \u001b[35mNone\u001b[0m\n",
      "\t \u001b[35mReference match:\u001b[0m \u001b[35mNone\u001b[0m\n",
      "9 \u001b[31mAJS_1901_6_4_Social Control XX.pdf\u001b[0m\n",
      "\t \u001b[34mAccessed: 09-05-2016 04:17 UTC\u001b[0m\n",
      "\t \u001b[35mAbstract match:\u001b[0m \u001b[35mNone\u001b[0m\n",
      "\t \u001b[35mReference match:\u001b[0m \u001b[35mNone\u001b[0m\n",
      "10 \u001b[31mAJS_1901_6_4_The Saloon in Chicago II.pdf\u001b[0m\n",
      "\t \u001b[34mAccessed: 09-05-2016 03:36 UTC\u001b[0m\n",
      "\t \u001b[35mAbstract match:\u001b[0m \u001b[35mNone\u001b[0m\n",
      "\t \u001b[35mReference match:\u001b[0m \u001b[35mNone\u001b[0m\n",
      "11 \u001b[31mAJS_1901_6_4_The Scope of Social Technology.pdf\u001b[0m\n",
      "\t \u001b[34mAccessed: 09-05-2016 03:47 UTC\u001b[0m\n",
      "\t \u001b[35mAbstract match:\u001b[0m \u001b[35mNone\u001b[0m\n",
      "\t \u001b[35mReference match:\u001b[0m \u001b[35mNone\u001b[0m\n",
      "12 \u001b[31mAJS_1901_6_4_The Scope of Sociology.pdf\u001b[0m\n",
      "\t \u001b[34mAccessed: 09-05-2016 03:53 UTC\u001b[0m\n",
      "\t \u001b[35mAbstract match:\u001b[0m \u001b[35mNone\u001b[0m\n",
      "\t \u001b[32mChart match:\u001b[0m \u001b[32m<re.Match object; span=(96404, 96409), match='CHART'>\u001b[0m\n",
      "\t \u001b[35mReference match:\u001b[0m \u001b[35mNone\u001b[0m\n",
      "13 \u001b[31mAJS_1906_11_4_The Biological Foundations of Sociology.pdf\u001b[0m\n",
      "\t \u001b[34mAccessed: 09-05-2016 04:43 UTC\u001b[0m\n",
      "\t \u001b[35mAbstract match:\u001b[0m \u001b[35mNone\u001b[0m\n",
      "\t \u001b[35mReference match:\u001b[0m \u001b[35mNone\u001b[0m\n",
      "14 \u001b[31mAJS_1906_11_4_The Literary Interests of Chicago.pdf\u001b[0m\n",
      "\t \u001b[34mAccessed: 09-05-2016 04:38 UTC\u001b[0m\n",
      "\t \u001b[35mAbstract match:\u001b[0m \u001b[35mNone\u001b[0m\n",
      "\t \u001b[35mReference match:\u001b[0m \u001b[35mNone\u001b[0m\n",
      "15 \u001b[31mAJS_1906_11_4_The Sociology of Secrecy.pdf\u001b[0m\n",
      "\t \u001b[34mAccessed: 09-05-2016 04:32 UTC\u001b[0m\n",
      "\t \u001b[35mAbstract match:\u001b[0m \u001b[35mNone\u001b[0m\n",
      "\t \u001b[35mReference match:\u001b[0m \u001b[35mNone\u001b[0m\n",
      "16 \u001b[31mAJS_1911_16_4_Housing Conditions in Chicago III Back of the Yards.pdf\u001b[0m\n",
      "\t \u001b[34mAccessed: 09-05-2016 05:17 UTC\u001b[0m\n",
      "\t \u001b[35mAbstract match:\u001b[0m \u001b[35mNone\u001b[0m\n",
      "\t \u001b[32mTable match:\u001b[0m \u001b[32m<re.Match object; span=(16319, 16324), match='TABLE'>\u001b[0m\n",
      "\t \u001b[32mTable match:\u001b[0m \u001b[32m<re.Match object; span=(17725, 17730), match='TABLE'>\u001b[0m\n",
      "\t \u001b[32mTable match:\u001b[0m \u001b[32m<re.Match object; span=(20283, 20288), match='TABLE'>\u001b[0m\n",
      "\t \u001b[32mTable match:\u001b[0m \u001b[32m<re.Match object; span=(25604, 25609), match='TABLE'>\u001b[0m\n",
      "\t \u001b[32mTable match:\u001b[0m \u001b[32m<re.Match object; span=(41064, 41069), match='TABLE'>\u001b[0m\n",
      "\t \u001b[32mTable match:\u001b[0m \u001b[32m<re.Match object; span=(58575, 58580), match='TABLE'>\u001b[0m\n",
      "\t \u001b[32mTable match:\u001b[0m \u001b[32m<re.Match object; span=(63987, 63992), match='TABLE'>\u001b[0m\n",
      "\t \u001b[32mTable match:\u001b[0m \u001b[32m<re.Match object; span=(66190, 66195), match='TABLE'>\u001b[0m\n",
      "\t \u001b[32mTable match:\u001b[0m \u001b[32m<re.Match object; span=(68728, 68733), match='TABLE'>\u001b[0m\n",
      "\t \u001b[35mReference match:\u001b[0m \u001b[35mNone\u001b[0m\n",
      "17 \u001b[31mAJS_1911_16_4_Municipal Review 1909-1910.pdf\u001b[0m\n",
      "\t \u001b[34mAccessed: 09-05-2016 05:27 UTC\u001b[0m\n",
      "\t \u001b[35mAbstract match:\u001b[0m \u001b[35mNone\u001b[0m\n",
      "\t \u001b[35mReference match:\u001b[0m \u001b[35mNone\u001b[0m\n",
      "18 \u001b[31mAJS_1911_16_4_The Influence of Newspaper Presentations Upon the Growth of Crime and Other Anti-Social Activity.pdf\u001b[0m\n",
      "\t \u001b[34mAccessed: 09-05-2016 05:36 UTC\u001b[0m\n",
      "\t \u001b[35mAbstract match:\u001b[0m \u001b[35mNone\u001b[0m\n",
      "\t \u001b[32mTable match:\u001b[0m \u001b[32m<re.Match object; span=(17804, 17809), match='TABLE'>\u001b[0m\n",
      "\t \u001b[32mTable match:\u001b[0m \u001b[32m<re.Match object; span=(21154, 21159), match='TABLE'>\u001b[0m\n",
      "\t \u001b[32mTable match:\u001b[0m \u001b[32m<re.Match object; span=(31042, 31047), match='TABLE'>\u001b[0m\n",
      "\t \u001b[32mTable match:\u001b[0m \u001b[32m<re.Match object; span=(38142, 38147), match='TABLE'>\u001b[0m\n",
      "\t \u001b[35mReference match:\u001b[0m \u001b[35mNone\u001b[0m\n",
      "19 \u001b[31mAJS_1911_16_4_The Rivalry of Social Groups.pdf\u001b[0m\n",
      "\t \u001b[34mAccessed: 09-05-2016 05:23 UTC\u001b[0m\n",
      "\t \u001b[35mAbstract match:\u001b[0m \u001b[35mNone\u001b[0m\n",
      "\t \u001b[35mReference match:\u001b[0m \u001b[35mNone\u001b[0m\n",
      "20 \u001b[31mAJS_1911_16_4_The Transition to an Objective Standard of Social Control.pdf\u001b[0m\n",
      "\t \u001b[34mAccessed: 09-05-2016 05:32 UTC\u001b[0m\n",
      "\t \u001b[35mAbstract match:\u001b[0m \u001b[35mNone\u001b[0m\n",
      "\t \u001b[35mReference match:\u001b[0m \u001b[35mNone\u001b[0m\n",
      "21 \u001b[31mAJS_1916_21_4_A Business Mans Reflections on Labor Problems.pdf\u001b[0m\n",
      "\t \u001b[34mAccessed: 10-05-2016 04:47 UTC\u001b[0m\n",
      "\t \u001b[35mAbstract match:\u001b[0m \u001b[35mNone\u001b[0m\n",
      "\t \u001b[35mReference match:\u001b[0m \u001b[35mNone\u001b[0m\n",
      "22 \u001b[31mAJS_1916_21_4_Acquisitive Mimicry.pdf\u001b[0m\n",
      "\t \u001b[34mAccessed: 10-05-2016 04:39 UTC\u001b[0m\n",
      "\t \u001b[35mAbstract match:\u001b[0m \u001b[35mNone\u001b[0m\n",
      "\t \u001b[35mReference match:\u001b[0m \u001b[35mNone\u001b[0m\n",
      "23 \u001b[31mAJS_1916_21_4_American Democracy and the Modern Church.pdf\u001b[0m\n",
      "\t \u001b[34mAccessed: 10-05-2016 04:51 UTC\u001b[0m\n",
      "\t \u001b[35mAbstract match:\u001b[0m \u001b[35mNone\u001b[0m\n",
      "\t \u001b[35mReference match:\u001b[0m \u001b[35mNone\u001b[0m\n",
      "24 \u001b[31mAJS_1916_21_4_The Generalizations of Economic History.pdf\u001b[0m\n",
      "\t \u001b[34mAccessed: 10-05-2016 04:58 UTC\u001b[0m\n",
      "\t \u001b[35mAbstract match:\u001b[0m \u001b[35mNone\u001b[0m\n",
      "\t \u001b[35mReference match:\u001b[0m \u001b[35mNone\u001b[0m\n",
      "25 \u001b[31mAJS_1916_21_4_The Interpretation of Sociological Data.pdf\u001b[0m\n",
      "\t \u001b[34mAccessed: 10-05-2016 06:00 UTC\u001b[0m\n",
      "\t \u001b[35mAbstract match:\u001b[0m \u001b[35mNone\u001b[0m\n",
      "\t \u001b[35mReference match:\u001b[0m \u001b[35mNone\u001b[0m\n",
      "26 \u001b[31mAJS_1916_21_4_The Mind of the Citizen III.pdf\u001b[0m\n",
      "\t \u001b[34mAccessed: 10-05-2016 05:10 UTC\u001b[0m\n",
      "\t \u001b[35mAbstract match:\u001b[0m \u001b[35mNone\u001b[0m\n",
      "\t \u001b[35mReference match:\u001b[0m \u001b[35mNone\u001b[0m\n",
      "27 \u001b[31mAJS_1916_21_4_The Social Survey a Field for Constructive Service by Departments of Sociology.pdf\u001b[0m\n",
      "\t \u001b[34mAccessed: 10-05-2016 05:05 UTC\u001b[0m\n",
      "\t \u001b[35mAbstract match:\u001b[0m \u001b[35mNone\u001b[0m\n",
      "\t \u001b[35mReference match:\u001b[0m \u001b[35mNone\u001b[0m\n",
      "28 \u001b[31mAJS_1921_26_4_Education for Social Work.pdf\u001b[0m\n",
      "\t \u001b[34mAccessed: 10-05-2016 17:17 UTC\u001b[0m\n",
      "\t \u001b[35mAbstract match:\u001b[0m \u001b[35mNone\u001b[0m\n",
      "\t \u001b[35mReference match:\u001b[0m \u001b[35mNone\u001b[0m\n",
      "29 \u001b[31mAJS_1921_26_4_Sociology and the Social Sciences.pdf\u001b[0m\n",
      "\t \u001b[34mAccessed: 10-05-2016 17:09 UTC\u001b[0m\n",
      "\t \u001b[35mAbstract match:\u001b[0m \u001b[35mNone\u001b[0m\n",
      "\t \u001b[35mReference match:\u001b[0m \u001b[35mNone\u001b[0m\n",
      "30 \u001b[31mAJS_1921_26_4_The Comparative Role of the Group Concept.pdf\u001b[0m\n",
      "\t \u001b[34mAccessed: 10-05-2016 17:14 UTC\u001b[0m\n",
      "\t \u001b[35mAbstract match:\u001b[0m \u001b[35mNone\u001b[0m\n",
      "\t \u001b[35mReference match:\u001b[0m \u001b[35mNone\u001b[0m\n",
      "31 \u001b[31mAJS_1926_31_4_Studies in the Sociology of Religion VI.pdf\u001b[0m\n",
      "\t \u001b[34mAccessed: 03-06-2016 19:32 UTC\u001b[0m\n",
      "\t \u001b[35mAbstract match:\u001b[0m \u001b[35m<re.Match object; span=(1086, 1094), match='ABSTRACT'>\u001b[0m\n",
      "\t \u001b[35mReference match:\u001b[0m \u001b[35mNone\u001b[0m\n",
      "32 \u001b[31mAJS_1926_31_4_The Concept Social Forces in American Sociology Section V.pdf\u001b[0m\n",
      "\t \u001b[34mAccessed: 03-06-2016 19:35 UTC\u001b[0m\n",
      "\t \u001b[35mAbstract match:\u001b[0m \u001b[35m<re.Match object; span=(1058, 1066), match='ABSTRACT'>\u001b[0m\n",
      "\t \u001b[35mReference match:\u001b[0m \u001b[35mNone\u001b[0m\n",
      "33 \u001b[31mAJS_1926_31_4_The Concept Social Forces in American Sociology Section VI.pdf\u001b[0m\n",
      "\t \u001b[34mAccessed: 03-06-2016 19:37 UTC\u001b[0m\n",
      "\t \u001b[35mAbstract match:\u001b[0m \u001b[35mNone\u001b[0m\n",
      "\t \u001b[35mReference match:\u001b[0m \u001b[35mNone\u001b[0m\n",
      "34 \u001b[31mAJS_1926_31_4_The Need of a Sociological Approach to Problems of Sex Conduct I.pdf\u001b[0m\n",
      "\t \u001b[34mAccessed: 03-06-2016 19:27 UTC\u001b[0m\n",
      "\t \u001b[35mAbstract match:\u001b[0m \u001b[35m<re.Match object; span=(1167, 1175), match='ABSTRACT'>\u001b[0m\n",
      "\t \u001b[35mReference match:\u001b[0m \u001b[35mNone\u001b[0m\n",
      "35 \u001b[31mAJS_1926_31_4_The Social Purpose in the Sociology of DeGreef.pdf\u001b[0m\n",
      "\t \u001b[34mAccessed: 03-06-2016 19:24 UTC\u001b[0m\n",
      "\t \u001b[35mAbstract match:\u001b[0m \u001b[35m<re.Match object; span=(1053, 1061), match='ABSTRACT'>\u001b[0m\n",
      "\t \u001b[35mReference match:\u001b[0m \u001b[35mNone\u001b[0m\n",
      "36 \u001b[31mAJS_1926_31_4_What are Principles of Sociology.pdf\u001b[0m\n",
      "\t \u001b[34mAccessed: 03-06-2016 19:30 UTC\u001b[0m\n",
      "\t \u001b[35mAbstract match:\u001b[0m \u001b[35m<re.Match object; span=(964, 972), match='ABSTRACT'>\u001b[0m\n",
      "\t \u001b[35mReference match:\u001b[0m \u001b[35mNone\u001b[0m\n",
      "37 \u001b[31mAJS_1931_36_4_Majority Votes and the Business Cycle.pdf\u001b[0m\n",
      "\t \u001b[34mAccessed: 03-06-2016 19:46 UTC\u001b[0m\n",
      "\t \u001b[35mAbstract match:\u001b[0m \u001b[35mNone\u001b[0m\n",
      "\t \u001b[35mReference match:\u001b[0m \u001b[35mNone\u001b[0m\n",
      "38 \u001b[31mAJS_1931_36_4_Mentality of Racial Hybrids.pdf\u001b[0m\n",
      "\t \u001b[34mAccessed: 03-06-2016 19:40 UTC\u001b[0m\n",
      "\t \u001b[35mAbstract match:\u001b[0m \u001b[35mNone\u001b[0m\n",
      "\t \u001b[35mReference match:\u001b[0m \u001b[35mNone\u001b[0m\n",
      "39 \u001b[31mAJS_1931_36_4_Preschool Personality Research.pdf\u001b[0m\n",
      "\t \u001b[34mAccessed: 03-06-2016 19:45 UTC\u001b[0m\n",
      "\t \u001b[35mAbstract match:\u001b[0m \u001b[35mNone\u001b[0m\n",
      "\t \u001b[35mReference match:\u001b[0m \u001b[35mNone\u001b[0m\n",
      "40 \u001b[31mAJS_1931_36_4_Science Without Concepts.pdf\u001b[0m\n",
      "\t \u001b[34mAccessed: 03-06-2016 19:39 UTC\u001b[0m\n",
      "\t \u001b[35mAbstract match:\u001b[0m \u001b[35mNone\u001b[0m\n",
      "\t \u001b[35mReference match:\u001b[0m \u001b[35mNone\u001b[0m\n",
      "41 \u001b[31mAJS_1931_36_4_The Concept of Inviolability in Culture.pdf\u001b[0m\n",
      "\t \u001b[34mAccessed: 03-06-2016 19:47 UTC\u001b[0m\n",
      "\t \u001b[35mAbstract match:\u001b[0m \u001b[35mNone\u001b[0m\n",
      "\t \u001b[35mReference match:\u001b[0m \u001b[35mNone\u001b[0m\n",
      "42 \u001b[31mAJS_1931_36_4_Two Racial Islands in Alabama.pdf\u001b[0m\n",
      "\t \u001b[34mAccessed: 03-06-2016 19:42 UTC\u001b[0m\n",
      "\t \u001b[35mAbstract match:\u001b[0m \u001b[35mNone\u001b[0m\n",
      "\t \u001b[35mReference match:\u001b[0m \u001b[35mNone\u001b[0m\n",
      "43 \u001b[31mAJS_1931_36_4_Understanding the Community.pdf\u001b[0m\n",
      "\t \u001b[34mAccessed: 03-06-2016 19:48 UTC\u001b[0m\n",
      "\t \u001b[35mAbstract match:\u001b[0m \u001b[35mNone\u001b[0m\n",
      "\t \u001b[35mReference match:\u001b[0m \u001b[35mNone\u001b[0m\n",
      "44 \u001b[31mAJS_1931_36_4_War and Invention.pdf\u001b[0m\n",
      "\t \u001b[34mAccessed: 03-06-2016 19:49 UTC\u001b[0m\n",
      "\t \u001b[35mAbstract match:\u001b[0m \u001b[35mNone\u001b[0m\n",
      "\t \u001b[35mReference match:\u001b[0m \u001b[35mNone\u001b[0m\n",
      "45 \u001b[31mAJS_1931_36_4_Why the Divorce Rate Has Declined in Japan.pdf\u001b[0m\n",
      "\t \u001b[34mAccessed: 03-06-2016 19:43 UTC\u001b[0m\n",
      "\t \u001b[35mAbstract match:\u001b[0m \u001b[35mNone\u001b[0m\n",
      "\t \u001b[35mReference match:\u001b[0m \u001b[35mNone\u001b[0m\n",
      "46 \u001b[31mAJS_1936_41_4_All Science Is One.pdf\u001b[0m\n",
      "\t \u001b[34mAccessed: 03-06-2016 20:00 UTC\u001b[0m\n",
      "\t \u001b[35mAbstract match:\u001b[0m \u001b[35m<re.Match object; span=(906, 914), match='ABSTRACT'>\u001b[0m\n",
      "\t \u001b[35mReference match:\u001b[0m \u001b[35mNone\u001b[0m\n",
      "47 \u001b[31mAJS_1936_41_4_Lithuanian Immigrants in America.pdf\u001b[0m\n",
      "\t \u001b[34mAccessed: 03-06-2016 19:54 UTC\u001b[0m\n",
      "\t \u001b[35mAbstract match:\u001b[0m \u001b[35m<re.Match object; span=(942, 950), match='ABSTRACT'>\u001b[0m\n",
      "\t \u001b[35mReference match:\u001b[0m \u001b[35mNone\u001b[0m\n",
      "48 \u001b[31mAJS_1936_41_4_Philosophical Anarchism Its Rise, Decline, and Eclipse.pdf\u001b[0m\n",
      "\t \u001b[34mAccessed: 03-06-2016 19:57 UTC\u001b[0m\n",
      "\t \u001b[35mAbstract match:\u001b[0m \u001b[35m<re.Match object; span=(981, 989), match='ABSTRACT'>\u001b[0m\n",
      "\t \u001b[35mReference match:\u001b[0m \u001b[35mNone\u001b[0m\n",
      "49 \u001b[31mAJS_1936_41_4_Research Barriers in the South.pdf\u001b[0m\n",
      "\t \u001b[34mAccessed: 03-06-2016 19:58 UTC\u001b[0m\n",
      "\t \u001b[35mAbstract match:\u001b[0m \u001b[35m<re.Match object; span=(919, 927), match='ABSTRACT'>\u001b[0m\n",
      "\t \u001b[35mReference match:\u001b[0m \u001b[35mNone\u001b[0m\n",
      "50 \u001b[31mAJS_1936_41_4_Social Change and Isolation in the Ozark Mountain Region of Missouri.pdf\u001b[0m\n",
      "\t \u001b[34mAccessed: 03-06-2016 19:52 UTC\u001b[0m\n",
      "\t \u001b[35mAbstract match:\u001b[0m \u001b[35m<re.Match object; span=(1008, 1016), match='ABSTRACT'>\u001b[0m\n",
      "\t \u001b[35mReference match:\u001b[0m \u001b[35mNone\u001b[0m\n",
      "51 \u001b[31mAJS_1936_41_4_Social Mobility and Social Distance Among Hungarian Immigrants in Detroit.pdf\u001b[0m\n",
      "\t \u001b[34mAccessed: 03-06-2016 19:51 UTC\u001b[0m\n",
      "\t \u001b[35mAbstract match:\u001b[0m \u001b[35m<re.Match object; span=(1096, 1104), match='ABSTRACT'>\u001b[0m\n",
      "\t \u001b[35mReference match:\u001b[0m \u001b[35mNone\u001b[0m\n",
      "52 \u001b[31mAJS_1936_41_4_The Length of Time Required for the Stabilization of a Population.pdf\u001b[0m\n",
      "\t \u001b[34mAccessed: 03-06-2016 20:01 UTC\u001b[0m\n",
      "\t \u001b[35mAbstract match:\u001b[0m \u001b[35m<re.Match object; span=(1007, 1015), match='ABSTRACT'>\u001b[0m\n",
      "\t \u001b[32mTable match:\u001b[0m \u001b[32m<re.Match object; span=(9343, 9348), match='TABLE'>\u001b[0m\n",
      "\t \u001b[32mTable match:\u001b[0m \u001b[32m<re.Match object; span=(11074, 11079), match='TABLE'>\u001b[0m\n",
      "\t \u001b[32mTable match:\u001b[0m \u001b[32m<re.Match object; span=(15887, 15892), match='TABLE'>\u001b[0m\n",
      "\t \u001b[32mTable match:\u001b[0m \u001b[32m<re.Match object; span=(15909, 15914), match='TABLE'>\u001b[0m\n",
      "\t \u001b[32mTable match:\u001b[0m \u001b[32m<re.Match object; span=(18037, 18042), match='TABLE'>\u001b[0m\n",
      "\t \u001b[35mReference match:\u001b[0m \u001b[35mNone\u001b[0m\n",
      "53 \u001b[31mAJS_1936_41_4_The Social Psychology of Childrens Reading.pdf\u001b[0m\n",
      "\t \u001b[34mAccessed: 03-06-2016 19:55 UTC\u001b[0m\n",
      "\t \u001b[35mAbstract match:\u001b[0m \u001b[35m<re.Match object; span=(966, 974), match='ABSTRACT'>\u001b[0m\n",
      "\t \u001b[35mReference match:\u001b[0m \u001b[35mNone\u001b[0m\n",
      "54 \u001b[31mAJS_1941_46_4_An Anthropological Analysis of War.pdf\u001b[0m\n",
      "\t \u001b[34mAccessed: 03-06-2016 20:13 UTC\u001b[0m\n",
      "\t \u001b[35mAbstract match:\u001b[0m \u001b[35m<re.Match object; span=(946, 954), match='ABSTRACT'>\u001b[0m\n",
      "\t \u001b[35mReference match:\u001b[0m \u001b[35mNone\u001b[0m\n",
      "55 \u001b[31mAJS_1941_46_4_Economic Foundations of the German Totalitarian State.pdf\u001b[0m\n",
      "\t \u001b[34mAccessed: 03-06-2016 20:08 UTC\u001b[0m\n",
      "\t \u001b[35mAbstract match:\u001b[0m \u001b[35m<re.Match object; span=(973, 981), match='ABSTRACT'>\u001b[0m\n",
      "\t \u001b[35mReference match:\u001b[0m \u001b[35mNone\u001b[0m\n",
      "56 \u001b[31mAJS_1941_46_4_International Peace-By Court or Government.pdf\u001b[0m\n",
      "\t \u001b[34mAccessed: 03-06-2016 20:16 UTC\u001b[0m\n",
      "\t \u001b[35mAbstract match:\u001b[0m \u001b[35m<re.Match object; span=(948, 956), match='ABSTRACT'>\u001b[0m\n",
      "\t \u001b[35mReference match:\u001b[0m \u001b[35mNone\u001b[0m\n",
      "57 \u001b[31mAJS_1941_46_4_Some Biological Considerations About War.pdf\u001b[0m\n",
      "\t \u001b[34mAccessed: 03-06-2016 20:10 UTC\u001b[0m\n",
      "\t \u001b[35mAbstract match:\u001b[0m \u001b[35m<re.Match object; span=(944, 952), match='ABSTRACT'>\u001b[0m\n",
      "\t \u001b[35mReference match:\u001b[0m \u001b[35mNone\u001b[0m\n",
      "58 \u001b[31mAJS_1941_46_4_The Garrison State.pdf\u001b[0m\n",
      "\t \u001b[34mAccessed: 03-06-2016 20:07 UTC\u001b[0m\n",
      "\t \u001b[35mAbstract match:\u001b[0m \u001b[35m<re.Match object; span=(910, 918), match='ABSTRACT'>\u001b[0m\n",
      "\t \u001b[35mReference match:\u001b[0m \u001b[35mNone\u001b[0m\n",
      "59 \u001b[31mAJS_1941_46_4_The Psychiatric Aspects of War and Peace.pdf\u001b[0m\n",
      "\t \u001b[34mAccessed: 03-06-2016 20:12 UTC\u001b[0m\n",
      "\t \u001b[35mAbstract match:\u001b[0m \u001b[35m<re.Match object; span=(948, 956), match='ABSTRACT'>\u001b[0m\n",
      "\t \u001b[35mReference match:\u001b[0m \u001b[35mNone\u001b[0m\n",
      "60 \u001b[31mAJS_1941_46_4_The Social Function of War Observations and Notes.pdf\u001b[0m\n",
      "\t \u001b[34mAccessed: 03-06-2016 20:14 UTC\u001b[0m\n",
      "\t \u001b[35mAbstract match:\u001b[0m \u001b[35m<re.Match object; span=(965, 973), match='ABSTRACT'>\u001b[0m\n",
      "\t \u001b[35mReference match:\u001b[0m \u001b[35mNone\u001b[0m\n",
      "61 \u001b[31mAJS_1941_46_4_The Social Types of War.pdf\u001b[0m\n",
      "\t \u001b[34mAccessed: 03-06-2016 20:05 UTC\u001b[0m\n",
      "\t \u001b[35mAbstract match:\u001b[0m \u001b[35m<re.Match object; span=(906, 914), match='ABSTRACT'>\u001b[0m\n",
      "\t \u001b[35mReference match:\u001b[0m \u001b[35mNone\u001b[0m\n",
      "62 \u001b[31mAJS_1941_46_4_War and Technology.pdf\u001b[0m\n",
      "\t \u001b[34mAccessed: 03-06-2016 20:04 UTC\u001b[0m\n",
      "\t \u001b[35mAbstract match:\u001b[0m \u001b[35m<re.Match object; span=(983, 991), match='ABSTRACT'>\u001b[0m\n",
      "\t \u001b[35mReference match:\u001b[0m \u001b[35mNone\u001b[0m\n"
     ]
    }
   ],
   "source": [
    "# Remove the double lines / extra space characters & footer download / use notice\n",
    "convertedStrings_pre1946 = [' '.join(re.split('\\n\\n+', string)) for string in convertedStrings_pre1946]\n",
    "pattern = re.compile(r'This content downloaded from (.)+\\n(.)+\\x0c')\n",
    "highlight(pattern, convertedStrings_pre1946[4])\n",
    "convertedStrings_pre1946 = [' '.join(re.split(r'This content downloaded from (.)+\\n(.)+\\x0c', string)) for string in convertedStrings_pre1946]\n",
    "printMetaInfo(convertedStrings_pre1946, pdfPaths = pre1946pdfs)\n",
    "#out = createOutputFile(convertedStrings_pre1946)"
   ]
  },
  {
   "cell_type": "code",
   "execution_count": null,
   "metadata": {},
   "outputs": [],
   "source": [
    "string = convertedStrings_pre1946[50]\n",
    "header = string[:re.search(r'extend access to\\n(.)+?(?=C)', string).end()]\n",
    "article = string[re.search(r'extend access to\\n(.)+?(?=C)(.)+?(?=\\w{2,})', string).end():]"
   ]
  },
  {
   "cell_type": "code",
   "execution_count": null,
   "metadata": {},
   "outputs": [],
   "source": [
    "p = re.compile(r'extend access to\\n(.)+?(?=C)(.)+?(?=\\w{2,})')\n",
    "#re.search(r'\\w{2,}', article)\n",
    "highlight(p, string)"
   ]
  },
  {
   "cell_type": "code",
   "execution_count": null,
   "metadata": {},
   "outputs": [],
   "source": [
    "string[re.search(r'extend access to\\n(.)+', string).end():]"
   ]
  },
  {
   "cell_type": "code",
   "execution_count": null,
   "metadata": {},
   "outputs": [],
   "source": [
    "#At some point, I'll want to use this to find section headers\n",
    "#re.findall(r'[A-Z]{2,}', string) #Find all the all caps characters\n",
    "#[i for i in re.findall(r'[A-Z]{2,}', string) if i not in ['URL', 'UTC', 'JSTOR']]"
   ]
  },
  {
   "cell_type": "markdown",
   "metadata": {},
   "source": [
    "### 1946 to 1966 | AJS articles"
   ]
  },
  {
   "cell_type": "code",
   "execution_count": null,
   "metadata": {},
   "outputs": [],
   "source": [
    "#This will be used on the output strings in the input analysis text to separate the meta-info from the article itself\n",
    "meta_info, article = re.split('\\n-----------\\n||Article||\\n-----------\\n', out[1])\n",
    "\n",
    "#re.search(r'Abstract match at \\(\\d*, \\d*\\)', meta_info)\n",
    "re.findall(r'Chart match at \\(\\d*, \\d*\\)', meta_info)"
   ]
  },
  {
   "cell_type": "code",
   "execution_count": null,
   "metadata": {},
   "outputs": [],
   "source": []
  },
  {
   "cell_type": "code",
   "execution_count": null,
   "metadata": {},
   "outputs": [],
   "source": []
  },
  {
   "cell_type": "code",
   "execution_count": null,
   "metadata": {},
   "outputs": [],
   "source": []
  },
  {
   "cell_type": "code",
   "execution_count": null,
   "metadata": {},
   "outputs": [],
   "source": []
  },
  {
   "cell_type": "code",
   "execution_count": null,
   "metadata": {},
   "outputs": [],
   "source": []
  },
  {
   "cell_type": "code",
   "execution_count": null,
   "metadata": {},
   "outputs": [],
   "source": []
  },
  {
   "cell_type": "code",
   "execution_count": null,
   "metadata": {},
   "outputs": [],
   "source": []
  },
  {
   "cell_type": "code",
   "execution_count": null,
   "metadata": {},
   "outputs": [],
   "source": []
  },
  {
   "cell_type": "code",
   "execution_count": null,
   "metadata": {},
   "outputs": [],
   "source": []
  },
  {
   "cell_type": "code",
   "execution_count": null,
   "metadata": {
    "scrolled": true
   },
   "outputs": [],
   "source": [
    "%%time\n",
    "#re.findall(r'Accessed: \\d{2}-\\d{2}-\\d{4} \\d{2}:\\d{2} UTC', string)\n",
    "for indx, file in enumerate(pdfPaths):\n",
    "    print(indx, colored(file, 'red'))\n",
    "    string = PDFtoString(os.path.join(pdfFolder, file), pdfFolder = pdfFolder)\n",
    "    print(colored(re.findall(r'Accessed: \\d{2}-\\d{2}-\\d{4} \\d{2}:\\d{2} UTC', string)[0], 'blue'))\n",
    "    print(colored('Abstract match:', 'magenta'), colored(re.search(r'ABSTRACT', string), 'magenta'))\n",
    "    matches = re.finditer(r'CHART', string)\n",
    "    for match in matches:\n",
    "        print(colored('Chart match:', 'green'), colored(match, 'green'))"
   ]
  },
  {
   "cell_type": "code",
   "execution_count": null,
   "metadata": {
    "code_folding": [],
    "scrolled": true
   },
   "outputs": [],
   "source": [
    "#Define the folder in which all the pdfs are in \n",
    "# - assuming the type of analysis needs to be different depending on the journal / time period\n",
    "\n",
    "# Laptop file paths\n",
    "#baseFolder = '/home/ishi/Desktop/franzosi/Language-of-Science/articles/AJS pdf files/1946to1966'\n",
    "#pdfFolder = '/Users/saranmedical-smile/Desktop/Language-of-Science/articles/AJS pdf files/1946to1966'\n",
    "#txtFolder = '/Users/saranmedical-smile/Desktop/Language-of-Science/corpus/AJS_1946to1966'\n",
    "\n",
    "# iMacPro file paths\n",
    "pdfFolder = '/Users/Praveens/Desktop/ishan/Language-of-Science/articles/AJS pdf files/1946to1966'\n",
    "txtFolder = '/Users/Praveens/Desktop/ishan/Language-of-Science/corpus/AJS_1946to1966'\n",
    "\n",
    "txtPaths = os.listdir(txtFolder) # list of all txt files\n",
    "pdfPaths = os.listdir(pdfFolder) # list of all pdf files\n",
    "\n",
    "txtPaths.sort(), pdfPaths.sort()\n",
    "\n",
    "for indx, f in enumerate(pdfPaths[:5]):\n",
    "    print(colored(indx, 'green'), colored(f, 'magenta'), '\\n')\n",
    "    \n",
    "\n",
    "string = PDFtoString(os.path.join(pdfPaths[35]), pdfFolder = pdfFolder) #Example output of PDFtoString"
   ]
  },
  {
   "cell_type": "markdown",
   "metadata": {},
   "source": [
    "### Print the corpus file"
   ]
  },
  {
   "cell_type": "code",
   "execution_count": null,
   "metadata": {
    "code_folding": [
     0
    ]
   },
   "outputs": [],
   "source": [
    "with open(os.path.join(baseFolder, filePaths[6]), 'r') as f:\n",
    "    data = f.read()\n",
    "print(data[:1000])# The header looks terrible - might make sense to use pdf2text just to extract header info"
   ]
  },
  {
   "cell_type": "markdown",
   "metadata": {},
   "source": [
    "### Regex Method 1 - re.compile.finditer(string)\n",
    "\n",
    "This returns the indices at which the pattern occurs"
   ]
  },
  {
   "cell_type": "code",
   "execution_count": null,
   "metadata": {
    "scrolled": true
   },
   "outputs": [],
   "source": [
    "pattern = re.compile(r'\\d[ ]? \\w') #Important to start regex expression with r --> raw string\n",
    "matches = pattern.finditer(string)\n",
    "for match in matches:\n",
    "    pass#print(match)"
   ]
  },
  {
   "cell_type": "markdown",
   "metadata": {},
   "source": [
    "### Regex Method 2 - re.findall(pattern, string)\n",
    "\n",
    "This returns the pattern itself"
   ]
  },
  {
   "cell_type": "code",
   "execution_count": null,
   "metadata": {
    "scrolled": true
   },
   "outputs": [],
   "source": [
    "%%time\n",
    "#re.findall(r'Accessed: \\d{2}-\\d{2}-\\d{4} \\d{2}:\\d{2} UTC', string)\n",
    "for indx, file in enumerate(pdfPaths):\n",
    "    print(indx, colored(file, 'red'))\n",
    "    string = PDFtoString(os.path.join(pdfFolder, file))\n",
    "    print(colored(re.findall(r'Accessed: \\d{2}-\\d{2}-\\d{4} \\d{2}:\\d{2} UTC', string)[0], 'blue'))\n",
    "    print(colored('Abstract match:', 'magenta'), colored(re.search(r'ABSTRACT', string), 'magenta'))\n",
    "    matches = re.finditer(r'CHART', string)\n",
    "    for match in matches:\n",
    "        print(colored('Chart match:', 'green'), colored(match, 'green'))"
   ]
  },
  {
   "cell_type": "markdown",
   "metadata": {},
   "source": [
    "### Split string by re.compile(pattern, string) return val"
   ]
  },
  {
   "cell_type": "code",
   "execution_count": null,
   "metadata": {},
   "outputs": [],
   "source": [
    "access_ts = r'(Accessed: \\d{2}-\\d{2}-\\d{4} \\d{2}:\\d{2} UTC)'\n",
    "#JSTOR_msg = r'\\n \\nREFERENCES \\nLinked references are available on JSTOR for this article:\\nhttp://www.jstor.org/stable/2774936?seq=1&cid=pdf-reference#references_tab_contents \\nYou may need to log in to JSTOR to access the linked references.\\n \\nYour use of the JSTOR archive indicates your acceptance of the Terms & Conditions of Use, available at\\n\\nhttp://about.jstor.org/terms\\n\\n \\n\\nJSTOR is a not-for-profit service that helps scholars, researchers, and students discover, use, and build upon a wide range of content in a trusted\\n\\ndigital archive. We use information technology and tools to increase productivity and facilitate new forms of scholarship. For more information about\\n\\nJSTOR, please contact support@jstor.org.\\n\\nThe University of Chicago Press is collaborating with JSTOR to digitize, preserve and extend access to\\nAmerican Journal of Sociology\\n\\n'\n",
    "JSTOR_msg = r'[A-Za-z]*, [0-9]* [A-Za-z]* [0-9]* [0-9][0-9]:[0-9][0-9]:[0-9][0-9] UTC'\n",
    "str_split = re.split(access_ts, string)\n",
    "# 0 --> Header w/out access date; 1 --> access_ts; 2 --> Body"
   ]
  },
  {
   "cell_type": "code",
   "execution_count": null,
   "metadata": {},
   "outputs": [],
   "source": [
    "matches = re.finditer(JSTOR_msg, str_split[2])\n",
    "for match in matches:\n",
    "    print(match)"
   ]
  },
  {
   "cell_type": "code",
   "execution_count": null,
   "metadata": {},
   "outputs": [],
   "source": [
    "JSTOR_msg = r'[A-Za-z]*,\\s*[0-9]*\\s*[A-Za-z]*\\s*[0-9]*\\s*[0-9][0-9]:[0-9][0-9]:[0-9][0-9]\\s*UTC\\s*'\n",
    "matches = re.finditer(JSTOR_msg, str_split[2])\n",
    "for indx, match in enumerate(matches):\n",
    "    print(indx, match)"
   ]
  },
  {
   "cell_type": "code",
   "execution_count": null,
   "metadata": {},
   "outputs": [],
   "source": [
    "AJS_mark = r'\\d*\\s*THE\\s*AMERICAN\\s*JOURNAL\\s*OF\\s*SOCIOLOGY\\s*\\d*\\s*'\n",
    "AJS_matches = re.finditer(AJS_mark, string)\n",
    "for indx, match in enumerate(AJS_matches):\n",
    "    print(indx, match)"
   ]
  },
  {
   "cell_type": "code",
   "execution_count": null,
   "metadata": {},
   "outputs": [],
   "source": [
    "for match in matches:\n",
    "    print(match)"
   ]
  },
  {
   "cell_type": "code",
   "execution_count": null,
   "metadata": {},
   "outputs": [],
   "source": [
    "for table in re.finditer(r'Table \\d*', string):\n",
    "    print(table)"
   ]
  },
  {
   "cell_type": "code",
   "execution_count": null,
   "metadata": {},
   "outputs": [],
   "source": [
    "print(table), table.group()"
   ]
  },
  {
   "cell_type": "code",
   "execution_count": null,
   "metadata": {},
   "outputs": [],
   "source": []
  }
 ],
 "metadata": {
  "kernelspec": {
   "display_name": "Python 3",
   "language": "python",
   "name": "python3"
  },
  "language_info": {
   "codemirror_mode": {
    "name": "ipython",
    "version": 3
   },
   "file_extension": ".py",
   "mimetype": "text/x-python",
   "name": "python",
   "nbconvert_exporter": "python",
   "pygments_lexer": "ipython3",
   "version": "3.7.6"
  }
 },
 "nbformat": 4,
 "nbformat_minor": 2
}
