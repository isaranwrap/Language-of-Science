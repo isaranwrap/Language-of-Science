{
 "cells": [
  {
   "cell_type": "code",
   "execution_count": 1,
   "metadata": {},
   "outputs": [],
   "source": [
    "import os\n",
    "import re\n",
    "import io\n",
    "\n",
    "from pdfminer.converter import TextConverter\n",
    "from pdfminer.layout import LAParams\n",
    "from pdfminer.pdfdocument import PDFDocument\n",
    "from pdfminer.pdfinterp import PDFResourceManager, PDFPageInterpreter\n",
    "from pdfminer.pdfpage import PDFPage\n",
    "from pdfminer.pdfparser import PDFParser\n",
    "#Define the folder in which all the pdfs are in \n",
    "# - assuming the type of analysis needs to be different depending on the journal / time period\n",
    "baseFolder = '/home/ishi/Desktop/franzosi/Language-of-Science/articles/AJS pdf files/1946to1966'\n",
    "filePaths = os.listdir(baseFolder) # list of all files"
   ]
  },
  {
   "cell_type": "code",
   "execution_count": 15,
   "metadata": {
    "scrolled": false
   },
   "outputs": [],
   "source": [
    "out = io.StringIO()\n",
    "file_num = 1 #Every now and then I am changing file_num to make sure that this will work for ALL articles in the folder\n",
    "\n",
    "def PDFtoString(filePath):\n",
    "    with open(os.path.join(baseFolder,filePaths[file_num]), 'rb') as f:\n",
    "        parser = PDFParser(f)\n",
    "        doc = PDFDocument(parser)\n",
    "        rsrcmgr = PDFResourceManager()\n",
    "        device = TextConverter(rsrcmgr, out, laparams=LAParams())\n",
    "        interpreter = PDFPageInterpreter(rsrcmgr, device)\n",
    "        for page in PDFPage.create_pages(doc):\n",
    "            interpreter.process_page(page)\n",
    "    #string = out.getvalue()\n",
    "    return out.getvalue()\n",
    "#print(len(string), string[:310]) #307, file_num=5"
   ]
  },
  {
   "cell_type": "markdown",
   "metadata": {},
   "source": [
    "### Regex Method 1 - re.compile.finditer(string)"
   ]
  },
  {
   "cell_type": "code",
   "execution_count": 6,
   "metadata": {
    "scrolled": true
   },
   "outputs": [],
   "source": [
    "pattern = re.compile(r'\\d[ ]? \\w') #Important to start regex expression with r --> raw string\n",
    "matches = pattern.finditer(string)\n",
    "for match in matches:\n",
    "    pass#print(match)"
   ]
  },
  {
   "cell_type": "markdown",
   "metadata": {},
   "source": [
    "### Regex Method 2 - re.findall(pattern, string)"
   ]
  },
  {
   "cell_type": "code",
   "execution_count": 22,
   "metadata": {
    "scrolled": false
   },
   "outputs": [
    {
     "name": "stdout",
     "output_type": "stream",
     "text": [
      "0 Accessed: 06-06-2016 18:17 UTC\n",
      "1 Accessed: 06-06-2016 18:17 UTC\n",
      "2 Accessed: 06-06-2016 18:17 UTC\n",
      "3 Accessed: 06-06-2016 18:17 UTC\n",
      "4 Accessed: 06-06-2016 18:17 UTC\n",
      "5 Accessed: 06-06-2016 18:17 UTC\n",
      "6 Accessed: 06-06-2016 18:17 UTC\n",
      "7 Accessed: 06-06-2016 18:17 UTC\n",
      "8 Accessed: 06-06-2016 18:17 UTC\n",
      "9 Accessed: 06-06-2016 18:17 UTC\n",
      "10 Accessed: 06-06-2016 18:17 UTC\n",
      "11 Accessed: 06-06-2016 18:17 UTC\n",
      "12 Accessed: 06-06-2016 18:17 UTC\n",
      "13 Accessed: 06-06-2016 18:17 UTC\n",
      "14 Accessed: 06-06-2016 18:17 UTC\n",
      "15 Accessed: 06-06-2016 18:17 UTC\n",
      "16 Accessed: 06-06-2016 18:17 UTC\n",
      "17 Accessed: 06-06-2016 18:17 UTC\n",
      "18 Accessed: 06-06-2016 18:17 UTC\n",
      "19 Accessed: 06-06-2016 18:17 UTC\n",
      "20 Accessed: 06-06-2016 18:17 UTC\n",
      "21 Accessed: 06-06-2016 18:17 UTC\n",
      "22 Accessed: 06-06-2016 18:17 UTC\n",
      "23 Accessed: 06-06-2016 18:17 UTC\n",
      "24 Accessed: 06-06-2016 18:17 UTC\n",
      "25 Accessed: 06-06-2016 18:17 UTC\n",
      "26 Accessed: 06-06-2016 18:17 UTC\n",
      "27 Accessed: 06-06-2016 18:17 UTC\n",
      "28 Accessed: 06-06-2016 18:17 UTC\n",
      "29 Accessed: 06-06-2016 18:17 UTC\n",
      "30 Accessed: 06-06-2016 18:17 UTC\n",
      "31 Accessed: 06-06-2016 18:17 UTC\n",
      "32 Accessed: 06-06-2016 18:17 UTC\n",
      "33 Accessed: 06-06-2016 18:17 UTC\n",
      "34 Accessed: 06-06-2016 18:17 UTC\n",
      "35 Accessed: 06-06-2016 18:17 UTC\n",
      "36 Accessed: 06-06-2016 18:17 UTC\n",
      "CPU times: user 27.6 s, sys: 84.5 ms, total: 27.7 s\n",
      "Wall time: 27.6 s\n"
     ]
    }
   ],
   "source": [
    "%%time\n",
    "#re.findall(r'Accessed: \\d{2}-\\d{2}-\\d{4} \\d{2}:\\d{2} UTC', string)\n",
    "for indx, file in enumerate(filePaths):\n",
    "    string = PDFtoString(os.path.join(baseFolder, file))\n",
    "    print(indx, re.findall(r'Accessed: \\d{2}-\\d{2}-\\d{4} \\d{2}:\\d{2} UTC', string)[0])"
   ]
  },
  {
   "cell_type": "code",
   "execution_count": null,
   "metadata": {},
   "outputs": [],
   "source": []
  }
 ],
 "metadata": {
  "kernelspec": {
   "display_name": "Python 3",
   "language": "python",
   "name": "python3"
  },
  "language_info": {
   "codemirror_mode": {
    "name": "ipython",
    "version": 3
   },
   "file_extension": ".py",
   "mimetype": "text/x-python",
   "name": "python",
   "nbconvert_exporter": "python",
   "pygments_lexer": "ipython3",
   "version": "3.7.3"
  }
 },
 "nbformat": 4,
 "nbformat_minor": 2
}
